{
 "cells": [
  {
   "cell_type": "code",
   "execution_count": null,
   "metadata": {},
   "outputs": [],
   "source": [
    "import numpy as np\n",
    "import utils_nn\n",
    "\n",
    "import gc\n",
    "from keras import backend as K\n",
    "\n",
    "\n",
    "BENIGN_PATH = '../dat/benign/'\n",
    "MALIGNANT_PATH = '../dat/malignant/'\n",
    "SAVE_MODEL_PATH = './NN_Model/weights.best.hdf5'\n",
    "\n",
    "benign_images = np.array(utils_nn.get_all_images(BENIGN_PATH, 256))\n",
    "malignant_images = np.array(utils_nn.get_all_images(MALIGNANT_PATH, 256))\n",
    "\n",
    "x_train, x_val, y_train, y_val = utils_nn.create_split(benign_images, malignant_images)\n",
    "\n",
    "train_generator = utils_nn.create_train_generator()\n",
    "\n",
    "K.clear_session()\n",
    "gc.collect()\n",
    "\n",
    "model_densenet = utils_nn.get_model(\"DenseNet\", 256, 3)\n",
    "\n",
    "# ResNet Modelload\n",
    "# model_resnet = utils_nn.get_model(\"ResNet\", 256, 3)\n",
    "    \n",
    "model = utils_nn.build_model(model_densenet , lr = 1e-4)\n",
    "\n",
    "# model summary\n",
    "# model.summary()\n",
    "\n",
    "# Learning Rate Reducer\n",
    "learn_control = utils_nn.learning_rate_reducer()\n",
    "checkpoint = utils_nn.model_checkpoint(SAVE_MODEL_PATH)\n",
    "\n",
    "history = utils_nn.train_model(model, train_generator, x_train, y_train, x_val, y_val, learn_control, checkpoint)"
   ]
  }
 ],
 "metadata": {
  "kernelspec": {
   "display_name": "Python 3",
   "language": "python",
   "name": "python3"
  },
  "language_info": {
   "codemirror_mode": {
    "name": "ipython",
    "version": 3
   },
   "file_extension": ".py",
   "mimetype": "text/x-python",
   "name": "python",
   "nbconvert_exporter": "python",
   "pygments_lexer": "ipython3",
   "version": "3.10.1"
  },
  "orig_nbformat": 4,
  "vscode": {
   "interpreter": {
    "hash": "3fc63de107a3995f66d33859f380f73bd26ac40da4b187ce627a4472b1acbfe0"
   }
  }
 },
 "nbformat": 4,
 "nbformat_minor": 2
}
