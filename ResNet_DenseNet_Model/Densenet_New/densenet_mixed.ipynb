{
 "cells": [
  {
   "attachments": {},
   "cell_type": "markdown",
   "metadata": {},
   "source": [
    "Source:\n",
    "- https://github.com/abhinavsagar/breast-cancer-classification/blob/master/Breast_cancer_classification.ipynb"
   ]
  },
  {
   "attachments": {},
   "cell_type": "markdown",
   "metadata": {},
   "source": [
    "## Libraries"
   ]
  },
  {
   "cell_type": "code",
   "execution_count": 13,
   "metadata": {},
   "outputs": [],
   "source": [
    "import json\n",
    "import math\n",
    "import os\n",
    "import cv2\n",
    "import numpy as np\n",
    "import matplotlib.pyplot as plt\n",
    "import pandas as pd\n",
    "import scipy\n",
    "import tensorflow as tf\n",
    "import gc\n",
    "import itertools\n",
    "\n",
    "from PIL import Image\n",
    "from functools import partial\n",
    "from sklearn import metrics\n",
    "from collections import Counter\n",
    "from keras import backend as K\n",
    "from tqdm import tqdm\n",
    "from sklearn.model_selection import train_test_split\n",
    "from sklearn.metrics import cohen_kappa_score, accuracy_score\n",
    "\n",
    "from keras import layers\n",
    "from keras.applications import DenseNet201\n",
    "from keras.callbacks import Callback, ModelCheckpoint, ReduceLROnPlateau, TensorBoard\n",
    "from keras.preprocessing.image import ImageDataGenerator\n",
    "from keras.utils.np_utils import to_categorical\n",
    "from keras.models import Sequential\n",
    "from keras.optimizers import Adam"
   ]
  },
  {
   "cell_type": "code",
   "execution_count": 14,
   "metadata": {},
   "outputs": [],
   "source": [
    "import numpy as np\n",
    "import json\n",
    "import utils_nn_eval\n",
    "import random\n",
    "import gc\n",
    "import pandas\n",
    "import matplotlib.pyplot as plt\n",
    "from tqdm import tqdm\n",
    "\n",
    "from keras import backend as K\n",
    "from keras.callbacks import Callback, ModelCheckpoint, ReduceLROnPlateau, TensorBoard\n",
    "from sklearn.metrics import cohen_kappa_score, accuracy_score"
   ]
  },
  {
   "cell_type": "code",
   "execution_count": 15,
   "metadata": {},
   "outputs": [],
   "source": [
    "figure_path = 'D:/Medical_Imaging/Medical_Imaging_Elias/Figures/'"
   ]
  },
  {
   "attachments": {},
   "cell_type": "markdown",
   "metadata": {},
   "source": [
    "## Load Images"
   ]
  },
  {
   "attachments": {},
   "cell_type": "markdown",
   "metadata": {},
   "source": [
    "## Gan Images"
   ]
  },
  {
   "cell_type": "code",
   "execution_count": 16,
   "metadata": {},
   "outputs": [],
   "source": [
    "benign_gan = utils_nn_eval.get_all_images('gan_benign')\n",
    "malignant_gan = utils_nn_eval.get_all_images('gan_malignant')"
   ]
  },
  {
   "cell_type": "code",
   "execution_count": 17,
   "metadata": {},
   "outputs": [
    {
     "name": "stdout",
     "output_type": "stream",
     "text": [
      "300\n",
      "300\n"
     ]
    }
   ],
   "source": [
    "print(len(benign_gan))\n",
    "print(len(malignant_gan))"
   ]
  },
  {
   "attachments": {},
   "cell_type": "markdown",
   "metadata": {},
   "source": [
    "### Ground Truth Images"
   ]
  },
  {
   "cell_type": "code",
   "execution_count": 18,
   "metadata": {},
   "outputs": [],
   "source": [
    "benign_gt = utils_nn_eval.get_all_images('gt_benign')\n",
    "malignant_gt = utils_nn_eval.get_all_images('gt_malignant')"
   ]
  },
  {
   "cell_type": "code",
   "execution_count": 19,
   "metadata": {},
   "outputs": [
    {
     "name": "stdout",
     "output_type": "stream",
     "text": [
      "223\n",
      "301\n"
     ]
    }
   ],
   "source": [
    "print(len(benign_gt))\n",
    "print(len(malignant_gt))"
   ]
  },
  {
   "cell_type": "code",
   "execution_count": 20,
   "metadata": {},
   "outputs": [],
   "source": [
    "random.Random(4).shuffle(benign_gan)\n",
    "random.Random(4).shuffle(malignant_gan)\n",
    "random.Random(4).shuffle(benign_gt)\n",
    "random.Random(4).shuffle(malignant_gt)"
   ]
  },
  {
   "cell_type": "code",
   "execution_count": 27,
   "metadata": {},
   "outputs": [],
   "source": [
    "benign_temp_gan = benign_gan[0:150]\n",
    "malignant_temp_gan = malignant_gan[0:150]\n",
    "benign_temp_gt = benign_gt[0:150]\n",
    "malignant_temp_gt = malignant_gt[0:150]"
   ]
  },
  {
   "cell_type": "code",
   "execution_count": 28,
   "metadata": {},
   "outputs": [],
   "source": [
    "benign = np.concatenate((benign_temp_gan, benign_temp_gt))\n",
    "malignant = np.concatenate((malignant_temp_gan, malignant_temp_gt))"
   ]
  },
  {
   "cell_type": "code",
   "execution_count": 30,
   "metadata": {},
   "outputs": [],
   "source": [
    "random.Random(4).shuffle(benign)\n",
    "random.Random(4).shuffle(malignant)"
   ]
  },
  {
   "attachments": {},
   "cell_type": "markdown",
   "metadata": {},
   "source": [
    "## Create Split"
   ]
  },
  {
   "cell_type": "code",
   "execution_count": 7,
   "metadata": {},
   "outputs": [],
   "source": [
    "X_test, Y_test, x_train, x_val, y_train, y_val = utils_nn_eval.create_split(benign, malignant)"
   ]
  },
  {
   "attachments": {},
   "cell_type": "markdown",
   "metadata": {},
   "source": [
    "## Data Generator"
   ]
  },
  {
   "cell_type": "code",
   "execution_count": 9,
   "metadata": {},
   "outputs": [],
   "source": [
    "train_generator = utils_nn_eval.create_train_generator()"
   ]
  },
  {
   "attachments": {},
   "cell_type": "markdown",
   "metadata": {},
   "source": [
    "## Model Creation"
   ]
  },
  {
   "cell_type": "code",
   "execution_count": 10,
   "metadata": {},
   "outputs": [],
   "source": [
    "def build_model(backbone, lr = 1e-4):\n",
    "\n",
    "    model = Sequential()\n",
    "    model.add(backbone)\n",
    "    model.add(layers.GlobalAveragePooling2D())\n",
    "    model.add(layers.Dropout(0.5))\n",
    "    model.add(layers.BatchNormalization())\n",
    "    model.add(layers.Dense(2, activation = 'softmax'))\n",
    "    \n",
    "    \n",
    "    model.compile(\n",
    "        loss = 'binary_crossentropy',\n",
    "        optimizer = Adam(learning_rate = lr),\n",
    "        metrics = ['accuracy']\n",
    "    )\n",
    "    \n",
    "    return model"
   ]
  },
  {
   "cell_type": "code",
   "execution_count": 11,
   "metadata": {},
   "outputs": [
    {
     "name": "stdout",
     "output_type": "stream",
     "text": [
      "Model: \"sequential\"\n",
      "_________________________________________________________________\n",
      " Layer (type)                Output Shape              Param #   \n",
      "=================================================================\n",
      " densenet201 (Functional)    (None, 4, 4, 1920)        18321984  \n",
      "                                                                 \n",
      " global_average_pooling2d (G  (None, 1920)             0         \n",
      " lobalAveragePooling2D)                                          \n",
      "                                                                 \n",
      " dropout (Dropout)           (None, 1920)              0         \n",
      "                                                                 \n",
      " batch_normalization (BatchN  (None, 1920)             7680      \n",
      " ormalization)                                                   \n",
      "                                                                 \n",
      " dense (Dense)               (None, 2)                 3842      \n",
      "                                                                 \n",
      "=================================================================\n",
      "Total params: 18,333,506\n",
      "Trainable params: 18,100,610\n",
      "Non-trainable params: 232,896\n",
      "_________________________________________________________________\n"
     ]
    }
   ],
   "source": [
    "K.clear_session()\n",
    "gc.collect()\n",
    "\n",
    "shape = (128, 128, 3)\n",
    "\n",
    "resnet = DenseNet201(\n",
    "                        weights = 'imagenet',\n",
    "                        include_top = False,\n",
    "                        input_shape = shape\n",
    "                    )\n",
    "\n",
    "model = build_model(resnet , lr = 1e-4)\n",
    "model.summary()"
   ]
  },
  {
   "attachments": {},
   "cell_type": "markdown",
   "metadata": {},
   "source": [
    "## Training & Evaluation"
   ]
  },
  {
   "cell_type": "code",
   "execution_count": 12,
   "metadata": {},
   "outputs": [],
   "source": [
    "# Learning Rate Reducer\n",
    "learn_control = ReduceLROnPlateau(monitor='val_accuracy', patience=5,\n",
    "                                  verbose=1,factor=0.2, min_lr=1e-7)\n",
    "\n",
    "# Checkpoint\n",
    "filepath = \"densenet_mixed_local.hdf5\"\n",
    "checkpoint = ModelCheckpoint(filepath, monitor='val_accuracy', verbose=1, save_best_only=True, mode='max')"
   ]
  },
  {
   "cell_type": "code",
   "execution_count": 14,
   "metadata": {},
   "outputs": [
    {
     "name": "stdout",
     "output_type": "stream",
     "text": [
      "Epoch 1/4\n",
      "21/20 [==============================] - ETA: 0s - loss: 0.5591 - accuracy: 0.7305\n",
      "Epoch 1: val_accuracy improved from 0.57143 to 0.69048, saving model to densenet_original_local.hdf5\n",
      "20/20 [==============================] - 92s 4s/step - loss: 0.5591 - accuracy: 0.7305 - val_loss: 0.5549 - val_accuracy: 0.6905 - lr: 1.0000e-04\n",
      "Epoch 2/4\n",
      "21/20 [==============================] - ETA: 0s - loss: 0.5498 - accuracy: 0.7365\n",
      "Epoch 2: val_accuracy improved from 0.69048 to 0.72619, saving model to densenet_original_local.hdf5\n",
      "20/20 [==============================] - 73s 4s/step - loss: 0.5498 - accuracy: 0.7365 - val_loss: 0.5364 - val_accuracy: 0.7262 - lr: 1.0000e-04\n",
      "Epoch 3/4\n",
      "21/20 [==============================] - ETA: 0s - loss: 0.5259 - accuracy: 0.7485\n",
      "Epoch 3: val_accuracy improved from 0.72619 to 0.75000, saving model to densenet_original_local.hdf5\n",
      "20/20 [==============================] - 73s 4s/step - loss: 0.5259 - accuracy: 0.7485 - val_loss: 0.4883 - val_accuracy: 0.7500 - lr: 1.0000e-04\n",
      "Epoch 4/4\n",
      "21/20 [==============================] - ETA: 0s - loss: 0.5111 - accuracy: 0.7695\n",
      "Epoch 4: val_accuracy did not improve from 0.75000\n",
      "20/20 [==============================] - 55s 3s/step - loss: 0.5111 - accuracy: 0.7695 - val_loss: 0.9690 - val_accuracy: 0.6667 - lr: 1.0000e-04\n"
     ]
    }
   ],
   "source": [
    "history = model.fit(\n",
    "\n",
    "    train_generator.flow(x_train, y_train, batch_size = 16),\n",
    "    steps_per_epoch=x_train.shape[0] / 16,\n",
    "    epochs=50,\n",
    "    validation_data=(x_val, y_val),\n",
    "    callbacks=[learn_control, checkpoint]\n",
    ")"
   ]
  },
  {
   "cell_type": "code",
   "execution_count": 29,
   "metadata": {},
   "outputs": [],
   "source": [
    "with open('history_mixed.json', 'w') as f:\n",
    "    \n",
    "    json.dump(str(history.history), f)"
   ]
  },
  {
   "attachments": {},
   "cell_type": "markdown",
   "metadata": {},
   "source": [
    "## Prediction on Ground Truth Data"
   ]
  },
  {
   "cell_type": "code",
   "execution_count": 30,
   "metadata": {},
   "outputs": [],
   "source": [
    "filepath_model = \"./densenet_mixed_local.hdf5\"\n",
    "model.load_weights(filepath_model)"
   ]
  },
  {
   "cell_type": "code",
   "execution_count": 31,
   "metadata": {},
   "outputs": [
    {
     "name": "stdout",
     "output_type": "stream",
     "text": [
      "10/10 [==============================] - 17s 1s/step\n"
     ]
    }
   ],
   "source": [
    "Y_val_pred = model.predict(x_val)"
   ]
  },
  {
   "cell_type": "code",
   "execution_count": 32,
   "metadata": {},
   "outputs": [
    {
     "data": {
      "text/plain": [
       "0.796875"
      ]
     },
     "execution_count": 32,
     "metadata": {},
     "output_type": "execute_result"
    }
   ],
   "source": [
    "accuracy_score(np.argmax(y_val, axis=1), np.argmax(Y_val_pred, axis=1))"
   ]
  }
 ],
 "metadata": {
  "kernelspec": {
   "display_name": "Python 3",
   "language": "python",
   "name": "python3"
  },
  "language_info": {
   "codemirror_mode": {
    "name": "ipython",
    "version": 3
   },
   "file_extension": ".py",
   "mimetype": "text/x-python",
   "name": "python",
   "nbconvert_exporter": "python",
   "pygments_lexer": "ipython3",
   "version": "3.10.1"
  },
  "orig_nbformat": 4,
  "vscode": {
   "interpreter": {
    "hash": "3fc63de107a3995f66d33859f380f73bd26ac40da4b187ce627a4472b1acbfe0"
   }
  }
 },
 "nbformat": 4,
 "nbformat_minor": 2
}
