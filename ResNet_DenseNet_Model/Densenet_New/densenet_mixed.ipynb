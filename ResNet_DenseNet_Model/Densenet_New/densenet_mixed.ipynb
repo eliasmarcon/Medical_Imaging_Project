{
 "cells": [
  {
<<<<<<< HEAD
   "attachments": {},
=======
>>>>>>> 8ba745979043ba59dd6bb26f4e97e1775a9f60e0
   "cell_type": "markdown",
   "metadata": {},
   "source": [
    "Source:\n",
    "- https://github.com/abhinavsagar/breast-cancer-classification/blob/master/Breast_cancer_classification.ipynb"
   ]
  },
  {
<<<<<<< HEAD
   "attachments": {},
=======
>>>>>>> 8ba745979043ba59dd6bb26f4e97e1775a9f60e0
   "cell_type": "markdown",
   "metadata": {},
   "source": [
    "## Libraries"
   ]
  },
  {
   "cell_type": "code",
<<<<<<< HEAD
   "execution_count": 13,
=======
   "execution_count": 2,
   "metadata": {},
   "outputs": [],
   "source": [
    "import numpy as np\n",
    "import json\n",
    "import utils_nn_eval\n",
    "import random\n",
    "import gc\n",
    "import pandas\n",
    "import matplotlib.pyplot as plt\n",
    "from tqdm import tqdm\n",
    "\n",
    "from keras import backend as K\n",
    "from keras.callbacks import Callback, ModelCheckpoint, ReduceLROnPlateau, TensorBoard\n",
    "from sklearn.metrics import cohen_kappa_score, accuracy_score"
   ]
  },
  {
   "cell_type": "code",
   "execution_count": 3,
>>>>>>> 8ba745979043ba59dd6bb26f4e97e1775a9f60e0
   "metadata": {},
   "outputs": [],
   "source": [
    "import json\n",
    "import math\n",
    "import os\n",
    "import cv2\n",
    "import numpy as np\n",
    "import matplotlib.pyplot as plt\n",
    "import pandas as pd\n",
    "import scipy\n",
    "import tensorflow as tf\n",
    "import gc\n",
    "import itertools\n",
    "\n",
    "from PIL import Image\n",
    "from functools import partial\n",
    "from sklearn import metrics\n",
    "from collections import Counter\n",
    "from keras import backend as K\n",
    "from tqdm import tqdm\n",
    "from sklearn.model_selection import train_test_split\n",
    "from sklearn.metrics import cohen_kappa_score, accuracy_score\n",
    "\n",
    "from keras import layers\n",
<<<<<<< HEAD
    "from keras.applications import DenseNet201\n",
=======
    "from tensorflow.keras.applications import DenseNet201\n",
>>>>>>> 8ba745979043ba59dd6bb26f4e97e1775a9f60e0
    "from keras.callbacks import Callback, ModelCheckpoint, ReduceLROnPlateau, TensorBoard\n",
    "from keras.preprocessing.image import ImageDataGenerator\n",
    "from keras.utils.np_utils import to_categorical\n",
    "from keras.models import Sequential\n",
<<<<<<< HEAD
    "from keras.optimizers import Adam"
   ]
  },
  {
   "cell_type": "code",
   "execution_count": 14,
   "metadata": {},
   "outputs": [],
   "source": [
    "import numpy as np\n",
    "import json\n",
    "import utils_nn_eval\n",
    "import random\n",
    "import gc\n",
    "import pandas\n",
    "import matplotlib.pyplot as plt\n",
    "from tqdm import tqdm\n",
    "\n",
    "from keras import backend as K\n",
    "from keras.callbacks import Callback, ModelCheckpoint, ReduceLROnPlateau, TensorBoard\n",
    "from sklearn.metrics import cohen_kappa_score, accuracy_score"
=======
    "from tensorflow.keras.optimizers import Adam"
>>>>>>> 8ba745979043ba59dd6bb26f4e97e1775a9f60e0
   ]
  },
  {
   "cell_type": "code",
   "execution_count": 15,
   "metadata": {},
   "outputs": [],
   "source": [
<<<<<<< HEAD
    "figure_path = 'D:/Medical_Imaging/Medical_Imaging_Elias/Figures/'"
   ]
  },
  {
   "attachments": {},
=======
    "figure_path = 'D:/FH/Kurse/semester_3/medical_imaging/Medical_Imaging_Elias/Figures/'"
   ]
  },
  {
>>>>>>> 8ba745979043ba59dd6bb26f4e97e1775a9f60e0
   "cell_type": "markdown",
   "metadata": {},
   "source": [
    "## Load Images"
   ]
  },
  {
<<<<<<< HEAD
   "attachments": {},
=======
>>>>>>> 8ba745979043ba59dd6bb26f4e97e1775a9f60e0
   "cell_type": "markdown",
   "metadata": {},
   "source": [
    "## Gan Images"
   ]
  },
  {
   "cell_type": "code",
<<<<<<< HEAD
   "execution_count": 16,
=======
   "execution_count": 4,
>>>>>>> 8ba745979043ba59dd6bb26f4e97e1775a9f60e0
   "metadata": {},
   "outputs": [],
   "source": [
    "benign_gan = utils_nn_eval.get_all_images('gan_benign')\n",
    "malignant_gan = utils_nn_eval.get_all_images('gan_malignant')"
   ]
  },
  {
   "cell_type": "code",
<<<<<<< HEAD
   "execution_count": 17,
=======
   "execution_count": 5,
>>>>>>> 8ba745979043ba59dd6bb26f4e97e1775a9f60e0
   "metadata": {},
   "outputs": [
    {
     "name": "stdout",
     "output_type": "stream",
     "text": [
      "300\n",
      "300\n"
     ]
    }
   ],
   "source": [
    "print(len(benign_gan))\n",
    "print(len(malignant_gan))"
   ]
  },
  {
<<<<<<< HEAD
   "attachments": {},
=======
>>>>>>> 8ba745979043ba59dd6bb26f4e97e1775a9f60e0
   "cell_type": "markdown",
   "metadata": {},
   "source": [
    "### Ground Truth Images"
   ]
  },
  {
   "cell_type": "code",
<<<<<<< HEAD
   "execution_count": 18,
=======
   "execution_count": 6,
>>>>>>> 8ba745979043ba59dd6bb26f4e97e1775a9f60e0
   "metadata": {},
   "outputs": [],
   "source": [
    "benign_gt = utils_nn_eval.get_all_images('gt_benign')\n",
    "malignant_gt = utils_nn_eval.get_all_images('gt_malignant')"
   ]
  },
  {
   "cell_type": "code",
<<<<<<< HEAD
   "execution_count": 19,
=======
   "execution_count": 7,
>>>>>>> 8ba745979043ba59dd6bb26f4e97e1775a9f60e0
   "metadata": {},
   "outputs": [
    {
     "name": "stdout",
     "output_type": "stream",
     "text": [
      "223\n",
      "301\n"
     ]
    }
   ],
   "source": [
    "print(len(benign_gt))\n",
    "print(len(malignant_gt))"
   ]
  },
  {
   "cell_type": "code",
<<<<<<< HEAD
   "execution_count": 20,
=======
   "execution_count": 8,
>>>>>>> 8ba745979043ba59dd6bb26f4e97e1775a9f60e0
   "metadata": {},
   "outputs": [],
   "source": [
    "random.Random(4).shuffle(benign_gan)\n",
    "random.Random(4).shuffle(malignant_gan)\n",
    "random.Random(4).shuffle(benign_gt)\n",
    "random.Random(4).shuffle(malignant_gt)"
   ]
  },
  {
   "cell_type": "code",
<<<<<<< HEAD
   "execution_count": 27,
=======
   "execution_count": 9,
>>>>>>> 8ba745979043ba59dd6bb26f4e97e1775a9f60e0
   "metadata": {},
   "outputs": [],
   "source": [
    "benign_temp_gan = benign_gan[0:150]\n",
    "malignant_temp_gan = malignant_gan[0:150]\n",
    "benign_temp_gt = benign_gt[0:150]\n",
    "malignant_temp_gt = malignant_gt[0:150]"
   ]
  },
  {
   "cell_type": "code",
<<<<<<< HEAD
   "execution_count": 28,
=======
   "execution_count": 10,
>>>>>>> 8ba745979043ba59dd6bb26f4e97e1775a9f60e0
   "metadata": {},
   "outputs": [],
   "source": [
    "benign = np.concatenate((benign_temp_gan, benign_temp_gt))\n",
    "malignant = np.concatenate((malignant_temp_gan, malignant_temp_gt))"
   ]
  },
  {
   "cell_type": "code",
<<<<<<< HEAD
   "execution_count": 30,
=======
   "execution_count": 11,
>>>>>>> 8ba745979043ba59dd6bb26f4e97e1775a9f60e0
   "metadata": {},
   "outputs": [],
   "source": [
    "random.Random(4).shuffle(benign)\n",
    "random.Random(4).shuffle(malignant)"
   ]
  },
  {
<<<<<<< HEAD
   "attachments": {},
=======
>>>>>>> 8ba745979043ba59dd6bb26f4e97e1775a9f60e0
   "cell_type": "markdown",
   "metadata": {},
   "source": [
    "## Create Split"
   ]
  },
  {
   "cell_type": "code",
<<<<<<< HEAD
   "execution_count": 7,
=======
   "execution_count": 12,
>>>>>>> 8ba745979043ba59dd6bb26f4e97e1775a9f60e0
   "metadata": {},
   "outputs": [],
   "source": [
    "X_test, Y_test, x_train, x_val, y_train, y_val = utils_nn_eval.create_split(benign, malignant)"
   ]
  },
  {
<<<<<<< HEAD
   "attachments": {},
=======
>>>>>>> 8ba745979043ba59dd6bb26f4e97e1775a9f60e0
   "cell_type": "markdown",
   "metadata": {},
   "source": [
    "## Data Generator"
   ]
  },
  {
   "cell_type": "code",
<<<<<<< HEAD
   "execution_count": 9,
=======
   "execution_count": 13,
>>>>>>> 8ba745979043ba59dd6bb26f4e97e1775a9f60e0
   "metadata": {},
   "outputs": [],
   "source": [
    "train_generator = utils_nn_eval.create_train_generator()"
   ]
  },
  {
<<<<<<< HEAD
   "attachments": {},
=======
>>>>>>> 8ba745979043ba59dd6bb26f4e97e1775a9f60e0
   "cell_type": "markdown",
   "metadata": {},
   "source": [
    "## Model Creation"
   ]
  },
  {
   "cell_type": "code",
<<<<<<< HEAD
   "execution_count": 10,
=======
   "execution_count": 14,
>>>>>>> 8ba745979043ba59dd6bb26f4e97e1775a9f60e0
   "metadata": {},
   "outputs": [],
   "source": [
    "def build_model(backbone, lr = 1e-4):\n",
    "\n",
    "    model = Sequential()\n",
    "    model.add(backbone)\n",
    "    model.add(layers.GlobalAveragePooling2D())\n",
    "    model.add(layers.Dropout(0.5))\n",
    "    model.add(layers.BatchNormalization())\n",
    "    model.add(layers.Dense(2, activation = 'softmax'))\n",
    "    \n",
    "    \n",
    "    model.compile(\n",
    "        loss = 'binary_crossentropy',\n",
    "        optimizer = Adam(learning_rate = lr),\n",
    "        metrics = ['accuracy']\n",
    "    )\n",
    "    \n",
    "    return model"
   ]
  },
  {
   "cell_type": "code",
<<<<<<< HEAD
   "execution_count": 11,
=======
   "execution_count": 15,
>>>>>>> 8ba745979043ba59dd6bb26f4e97e1775a9f60e0
   "metadata": {},
   "outputs": [
    {
     "name": "stdout",
     "output_type": "stream",
     "text": [
      "Model: \"sequential\"\n",
      "_________________________________________________________________\n",
<<<<<<< HEAD
      " Layer (type)                Output Shape              Param #   \n",
      "=================================================================\n",
      " densenet201 (Functional)    (None, 4, 4, 1920)        18321984  \n",
      "                                                                 \n",
      " global_average_pooling2d (G  (None, 1920)             0         \n",
      " lobalAveragePooling2D)                                          \n",
      "                                                                 \n",
      " dropout (Dropout)           (None, 1920)              0         \n",
      "                                                                 \n",
      " batch_normalization (BatchN  (None, 1920)             7680      \n",
      " ormalization)                                                   \n",
      "                                                                 \n",
      " dense (Dense)               (None, 2)                 3842      \n",
      "                                                                 \n",
=======
      "Layer (type)                 Output Shape              Param #   \n",
      "=================================================================\n",
      "densenet201 (Functional)     (None, 4, 4, 1920)        18321984  \n",
      "_________________________________________________________________\n",
      "global_average_pooling2d (Gl (None, 1920)              0         \n",
      "_________________________________________________________________\n",
      "dropout (Dropout)            (None, 1920)              0         \n",
      "_________________________________________________________________\n",
      "batch_normalization (BatchNo (None, 1920)              7680      \n",
      "_________________________________________________________________\n",
      "dense (Dense)                (None, 2)                 3842      \n",
>>>>>>> 8ba745979043ba59dd6bb26f4e97e1775a9f60e0
      "=================================================================\n",
      "Total params: 18,333,506\n",
      "Trainable params: 18,100,610\n",
      "Non-trainable params: 232,896\n",
      "_________________________________________________________________\n"
     ]
    }
   ],
   "source": [
    "K.clear_session()\n",
    "gc.collect()\n",
    "\n",
    "shape = (128, 128, 3)\n",
    "\n",
    "resnet = DenseNet201(\n",
    "                        weights = 'imagenet',\n",
    "                        include_top = False,\n",
    "                        input_shape = shape\n",
    "                    )\n",
    "\n",
    "model = build_model(resnet , lr = 1e-4)\n",
    "model.summary()"
   ]
  },
  {
<<<<<<< HEAD
   "attachments": {},
=======
>>>>>>> 8ba745979043ba59dd6bb26f4e97e1775a9f60e0
   "cell_type": "markdown",
   "metadata": {},
   "source": [
    "## Training & Evaluation"
   ]
  },
  {
   "cell_type": "code",
<<<<<<< HEAD
   "execution_count": 12,
=======
   "execution_count": 16,
>>>>>>> 8ba745979043ba59dd6bb26f4e97e1775a9f60e0
   "metadata": {},
   "outputs": [],
   "source": [
    "# Learning Rate Reducer\n",
    "learn_control = ReduceLROnPlateau(monitor='val_accuracy', patience=5,\n",
    "                                  verbose=1,factor=0.2, min_lr=1e-7)\n",
    "\n",
    "# Checkpoint\n",
    "filepath = \"densenet_mixed_local.hdf5\"\n",
    "checkpoint = ModelCheckpoint(filepath, monitor='val_accuracy', verbose=1, save_best_only=True, mode='max')"
   ]
  },
  {
   "cell_type": "code",
<<<<<<< HEAD
   "execution_count": 14,
=======
   "execution_count": 17,
>>>>>>> 8ba745979043ba59dd6bb26f4e97e1775a9f60e0
   "metadata": {},
   "outputs": [
    {
     "name": "stdout",
     "output_type": "stream",
     "text": [
<<<<<<< HEAD
      "Epoch 1/4\n",
      "21/20 [==============================] - ETA: 0s - loss: 0.5591 - accuracy: 0.7305\n",
      "Epoch 1: val_accuracy improved from 0.57143 to 0.69048, saving model to densenet_original_local.hdf5\n",
      "20/20 [==============================] - 92s 4s/step - loss: 0.5591 - accuracy: 0.7305 - val_loss: 0.5549 - val_accuracy: 0.6905 - lr: 1.0000e-04\n",
      "Epoch 2/4\n",
      "21/20 [==============================] - ETA: 0s - loss: 0.5498 - accuracy: 0.7365\n",
      "Epoch 2: val_accuracy improved from 0.69048 to 0.72619, saving model to densenet_original_local.hdf5\n",
      "20/20 [==============================] - 73s 4s/step - loss: 0.5498 - accuracy: 0.7365 - val_loss: 0.5364 - val_accuracy: 0.7262 - lr: 1.0000e-04\n",
      "Epoch 3/4\n",
      "21/20 [==============================] - ETA: 0s - loss: 0.5259 - accuracy: 0.7485\n",
      "Epoch 3: val_accuracy improved from 0.72619 to 0.75000, saving model to densenet_original_local.hdf5\n",
      "20/20 [==============================] - 73s 4s/step - loss: 0.5259 - accuracy: 0.7485 - val_loss: 0.4883 - val_accuracy: 0.7500 - lr: 1.0000e-04\n",
      "Epoch 4/4\n",
      "21/20 [==============================] - ETA: 0s - loss: 0.5111 - accuracy: 0.7695\n",
      "Epoch 4: val_accuracy did not improve from 0.75000\n",
      "20/20 [==============================] - 55s 3s/step - loss: 0.5111 - accuracy: 0.7695 - val_loss: 0.9690 - val_accuracy: 0.6667 - lr: 1.0000e-04\n"
=======
      "Epoch 1/50\n",
      "24/24 [==============================] - 51s 1s/step - loss: 0.6285 - accuracy: 0.6693 - val_loss: 0.7769 - val_accuracy: 0.5208\n",
      "\n",
      "Epoch 00001: val_accuracy improved from -inf to 0.52083, saving model to densenet_mixed_local.hdf5\n",
      "Epoch 2/50\n",
      "24/24 [==============================] - 30s 1s/step - loss: 0.3605 - accuracy: 0.8542 - val_loss: 0.5842 - val_accuracy: 0.8125\n",
      "\n",
      "Epoch 00002: val_accuracy improved from 0.52083 to 0.81250, saving model to densenet_mixed_local.hdf5\n",
      "Epoch 3/50\n",
      "24/24 [==============================] - 32s 1s/step - loss: 0.2923 - accuracy: 0.8958 - val_loss: 0.7132 - val_accuracy: 0.5000\n",
      "\n",
      "Epoch 00003: val_accuracy did not improve from 0.81250\n",
      "Epoch 4/50\n",
      "24/24 [==============================] - 31s 1s/step - loss: 0.2407 - accuracy: 0.9219 - val_loss: 0.8401 - val_accuracy: 0.4792\n",
      "\n",
      "Epoch 00004: val_accuracy did not improve from 0.81250\n",
      "Epoch 5/50\n",
      "24/24 [==============================] - 32s 1s/step - loss: 0.1670 - accuracy: 0.9323 - val_loss: 1.1107 - val_accuracy: 0.4792\n",
      "\n",
      "Epoch 00005: val_accuracy did not improve from 0.81250\n",
      "Epoch 6/50\n",
      "24/24 [==============================] - 30s 1s/step - loss: 0.2664 - accuracy: 0.8906 - val_loss: 1.0305 - val_accuracy: 0.4792\n",
      "\n",
      "Epoch 00006: val_accuracy did not improve from 0.81250\n",
      "Epoch 7/50\n",
      "24/24 [==============================] - 33s 1s/step - loss: 0.1355 - accuracy: 0.9531 - val_loss: 1.4979 - val_accuracy: 0.4792\n",
      "\n",
      "Epoch 00007: ReduceLROnPlateau reducing learning rate to 1.9999999494757503e-05.\n",
      "\n",
      "Epoch 00007: val_accuracy did not improve from 0.81250\n",
      "Epoch 8/50\n",
      "24/24 [==============================] - 29s 1s/step - loss: 0.1209 - accuracy: 0.9583 - val_loss: 1.4449 - val_accuracy: 0.4792\n",
      "\n",
      "Epoch 00008: val_accuracy did not improve from 0.81250\n",
      "Epoch 9/50\n",
      "24/24 [==============================] - 29s 1s/step - loss: 0.1050 - accuracy: 0.9714 - val_loss: 1.4128 - val_accuracy: 0.4792\n",
      "\n",
      "Epoch 00009: val_accuracy did not improve from 0.81250\n",
      "Epoch 10/50\n",
      "24/24 [==============================] - 29s 1s/step - loss: 0.0971 - accuracy: 0.9688 - val_loss: 1.1274 - val_accuracy: 0.4792\n",
      "\n",
      "Epoch 00010: val_accuracy did not improve from 0.81250\n",
      "Epoch 11/50\n",
      "24/24 [==============================] - 29s 1s/step - loss: 0.1377 - accuracy: 0.9453 - val_loss: 0.9355 - val_accuracy: 0.5729\n",
      "\n",
      "Epoch 00011: val_accuracy did not improve from 0.81250\n",
      "Epoch 12/50\n",
      "24/24 [==============================] - 29s 1s/step - loss: 0.0944 - accuracy: 0.9688 - val_loss: 0.9840 - val_accuracy: 0.6146\n",
      "\n",
      "Epoch 00012: ReduceLROnPlateau reducing learning rate to 3.999999898951501e-06.\n",
      "\n",
      "Epoch 00012: val_accuracy did not improve from 0.81250\n",
      "Epoch 13/50\n",
      "24/24 [==============================] - 29s 1s/step - loss: 0.1130 - accuracy: 0.9635 - val_loss: 0.8698 - val_accuracy: 0.6146\n",
      "\n",
      "Epoch 00013: val_accuracy did not improve from 0.81250\n",
      "Epoch 14/50\n",
      "24/24 [==============================] - 29s 1s/step - loss: 0.1126 - accuracy: 0.9531 - val_loss: 0.6014 - val_accuracy: 0.7396\n",
      "\n",
      "Epoch 00014: val_accuracy did not improve from 0.81250\n",
      "Epoch 15/50\n",
      "24/24 [==============================] - 30s 1s/step - loss: 0.0852 - accuracy: 0.9688 - val_loss: 0.4083 - val_accuracy: 0.8125\n",
      "\n",
      "Epoch 00015: val_accuracy did not improve from 0.81250\n",
      "Epoch 16/50\n",
      "24/24 [==============================] - 30s 1s/step - loss: 0.1031 - accuracy: 0.9635 - val_loss: 0.3283 - val_accuracy: 0.8438\n",
      "\n",
      "Epoch 00016: val_accuracy improved from 0.81250 to 0.84375, saving model to densenet_mixed_local.hdf5\n",
      "Epoch 17/50\n",
      "24/24 [==============================] - 29s 1s/step - loss: 0.0924 - accuracy: 0.9740 - val_loss: 0.2907 - val_accuracy: 0.8646\n",
      "\n",
      "Epoch 00017: val_accuracy improved from 0.84375 to 0.86458, saving model to densenet_mixed_local.hdf5\n",
      "Epoch 18/50\n",
      "24/24 [==============================] - 30s 1s/step - loss: 0.0828 - accuracy: 0.9661 - val_loss: 0.2727 - val_accuracy: 0.8646\n",
      "\n",
      "Epoch 00018: val_accuracy did not improve from 0.86458\n",
      "Epoch 19/50\n",
      "24/24 [==============================] - 31s 1s/step - loss: 0.1489 - accuracy: 0.9557 - val_loss: 0.2825 - val_accuracy: 0.8646\n",
      "\n",
      "Epoch 00019: val_accuracy did not improve from 0.86458\n",
      "Epoch 20/50\n",
      "24/24 [==============================] - 29s 1s/step - loss: 0.0879 - accuracy: 0.9688 - val_loss: 0.3197 - val_accuracy: 0.8542\n",
      "\n",
      "Epoch 00020: val_accuracy did not improve from 0.86458\n",
      "Epoch 21/50\n",
      "24/24 [==============================] - 29s 1s/step - loss: 0.0859 - accuracy: 0.9818 - val_loss: 0.2640 - val_accuracy: 0.8646\n",
      "\n",
      "Epoch 00021: val_accuracy did not improve from 0.86458\n",
      "Epoch 22/50\n",
      "24/24 [==============================] - 29s 1s/step - loss: 0.0764 - accuracy: 0.9740 - val_loss: 0.2384 - val_accuracy: 0.8750\n",
      "\n",
      "Epoch 00022: val_accuracy improved from 0.86458 to 0.87500, saving model to densenet_mixed_local.hdf5\n",
      "Epoch 23/50\n",
      "24/24 [==============================] - 29s 1s/step - loss: 0.1300 - accuracy: 0.9427 - val_loss: 0.1811 - val_accuracy: 0.9167\n",
      "\n",
      "Epoch 00023: val_accuracy improved from 0.87500 to 0.91667, saving model to densenet_mixed_local.hdf5\n",
      "Epoch 24/50\n",
      "24/24 [==============================] - 29s 1s/step - loss: 0.0788 - accuracy: 0.9792 - val_loss: 0.1599 - val_accuracy: 0.9271\n",
      "\n",
      "Epoch 00024: val_accuracy improved from 0.91667 to 0.92708, saving model to densenet_mixed_local.hdf5\n",
      "Epoch 25/50\n",
      "24/24 [==============================] - 29s 1s/step - loss: 0.0920 - accuracy: 0.9740 - val_loss: 0.1273 - val_accuracy: 0.9271\n",
      "\n",
      "Epoch 00025: val_accuracy did not improve from 0.92708\n",
      "Epoch 26/50\n",
      "24/24 [==============================] - 30s 1s/step - loss: 0.0987 - accuracy: 0.9635 - val_loss: 0.1323 - val_accuracy: 0.9271\n",
      "\n",
      "Epoch 00026: val_accuracy did not improve from 0.92708\n",
      "Epoch 27/50\n",
      "24/24 [==============================] - 29s 1s/step - loss: 0.0859 - accuracy: 0.9609 - val_loss: 0.1758 - val_accuracy: 0.9271\n",
      "\n",
      "Epoch 00027: val_accuracy did not improve from 0.92708\n",
      "Epoch 28/50\n",
      "24/24 [==============================] - 29s 1s/step - loss: 0.0646 - accuracy: 0.9818 - val_loss: 0.1911 - val_accuracy: 0.9167\n",
      "\n",
      "Epoch 00028: val_accuracy did not improve from 0.92708\n",
      "Epoch 29/50\n",
      "24/24 [==============================] - 29s 1s/step - loss: 0.0589 - accuracy: 0.9792 - val_loss: 0.1858 - val_accuracy: 0.9271\n",
      "\n",
      "Epoch 00029: ReduceLROnPlateau reducing learning rate to 7.999999979801942e-07.\n",
      "\n",
      "Epoch 00029: val_accuracy did not improve from 0.92708\n",
      "Epoch 30/50\n",
      "24/24 [==============================] - 30s 1s/step - loss: 0.0787 - accuracy: 0.9766 - val_loss: 0.1715 - val_accuracy: 0.9271\n",
      "\n",
      "Epoch 00030: val_accuracy did not improve from 0.92708\n",
      "Epoch 31/50\n",
      "24/24 [==============================] - 29s 1s/step - loss: 0.1117 - accuracy: 0.9609 - val_loss: 0.1568 - val_accuracy: 0.9271\n",
      "\n",
      "Epoch 00031: val_accuracy did not improve from 0.92708\n",
      "Epoch 32/50\n",
      "24/24 [==============================] - 30s 1s/step - loss: 0.0932 - accuracy: 0.9740 - val_loss: 0.1632 - val_accuracy: 0.9271\n",
      "\n",
      "Epoch 00032: val_accuracy did not improve from 0.92708\n",
      "Epoch 33/50\n",
      "24/24 [==============================] - 30s 1s/step - loss: 0.0746 - accuracy: 0.9766 - val_loss: 0.1451 - val_accuracy: 0.9271\n",
      "\n",
      "Epoch 00033: val_accuracy did not improve from 0.92708\n",
      "Epoch 34/50\n",
      "24/24 [==============================] - 30s 1s/step - loss: 0.1399 - accuracy: 0.9557 - val_loss: 0.1466 - val_accuracy: 0.9271\n",
      "\n",
      "Epoch 00034: ReduceLROnPlateau reducing learning rate to 1.600000018697756e-07.\n",
      "\n",
      "Epoch 00034: val_accuracy did not improve from 0.92708\n",
      "Epoch 35/50\n",
      "24/24 [==============================] - 30s 1s/step - loss: 0.0678 - accuracy: 0.9870 - val_loss: 0.1319 - val_accuracy: 0.9271\n",
      "\n",
      "Epoch 00035: val_accuracy did not improve from 0.92708\n",
      "Epoch 36/50\n",
      "24/24 [==============================] - 30s 1s/step - loss: 0.0879 - accuracy: 0.9766 - val_loss: 0.1285 - val_accuracy: 0.9271\n",
      "\n",
      "Epoch 00036: val_accuracy did not improve from 0.92708\n",
      "Epoch 37/50\n",
      "24/24 [==============================] - 29s 1s/step - loss: 0.0846 - accuracy: 0.9688 - val_loss: 0.1272 - val_accuracy: 0.9271\n",
      "\n",
      "Epoch 00037: val_accuracy did not improve from 0.92708\n",
      "Epoch 38/50\n",
      "24/24 [==============================] - 30s 1s/step - loss: 0.0710 - accuracy: 0.9766 - val_loss: 0.1232 - val_accuracy: 0.9271\n",
      "\n",
      "Epoch 00038: val_accuracy did not improve from 0.92708\n",
      "Epoch 39/50\n",
      "24/24 [==============================] - 29s 1s/step - loss: 0.1112 - accuracy: 0.9635 - val_loss: 0.1208 - val_accuracy: 0.9271\n",
      "\n",
      "Epoch 00039: ReduceLROnPlateau reducing learning rate to 1e-07.\n",
      "\n",
      "Epoch 00039: val_accuracy did not improve from 0.92708\n",
      "Epoch 40/50\n",
      "24/24 [==============================] - 31s 1s/step - loss: 0.1144 - accuracy: 0.9688 - val_loss: 0.1201 - val_accuracy: 0.9271\n",
      "\n",
      "Epoch 00040: val_accuracy did not improve from 0.92708\n",
      "Epoch 41/50\n",
      "24/24 [==============================] - 30s 1s/step - loss: 0.1077 - accuracy: 0.9688 - val_loss: 0.1186 - val_accuracy: 0.9271\n",
      "\n",
      "Epoch 00041: val_accuracy did not improve from 0.92708\n",
      "Epoch 42/50\n",
      "24/24 [==============================] - 29s 1s/step - loss: 0.0894 - accuracy: 0.9792 - val_loss: 0.1191 - val_accuracy: 0.9271\n",
      "\n",
      "Epoch 00042: val_accuracy did not improve from 0.92708\n",
      "Epoch 43/50\n",
      "24/24 [==============================] - 29s 1s/step - loss: 0.0654 - accuracy: 0.9844 - val_loss: 0.1158 - val_accuracy: 0.9271\n",
      "\n",
      "Epoch 00043: val_accuracy did not improve from 0.92708\n",
      "Epoch 44/50\n",
      "24/24 [==============================] - 30s 1s/step - loss: 0.0892 - accuracy: 0.9688 - val_loss: 0.1135 - val_accuracy: 0.9688\n",
      "\n",
      "Epoch 00044: val_accuracy improved from 0.92708 to 0.96875, saving model to densenet_mixed_local.hdf5\n",
      "Epoch 45/50\n",
      "24/24 [==============================] - 29s 1s/step - loss: 0.0774 - accuracy: 0.9792 - val_loss: 0.1154 - val_accuracy: 0.9688\n",
      "\n",
      "Epoch 00045: val_accuracy did not improve from 0.96875\n",
      "Epoch 46/50\n",
      "24/24 [==============================] - 29s 1s/step - loss: 0.0869 - accuracy: 0.9740 - val_loss: 0.1141 - val_accuracy: 0.9688\n",
      "\n",
      "Epoch 00046: val_accuracy did not improve from 0.96875\n",
      "Epoch 47/50\n",
      "24/24 [==============================] - 29s 1s/step - loss: 0.0600 - accuracy: 0.9818 - val_loss: 0.1144 - val_accuracy: 0.9688\n",
      "\n",
      "Epoch 00047: val_accuracy did not improve from 0.96875\n",
      "Epoch 48/50\n",
      "24/24 [==============================] - 29s 1s/step - loss: 0.0764 - accuracy: 0.9792 - val_loss: 0.1097 - val_accuracy: 0.9688\n",
      "\n",
      "Epoch 00048: val_accuracy did not improve from 0.96875\n",
      "Epoch 49/50\n",
      "24/24 [==============================] - 29s 1s/step - loss: 0.0830 - accuracy: 0.9688 - val_loss: 0.1124 - val_accuracy: 0.9688\n",
      "\n",
      "Epoch 00049: val_accuracy did not improve from 0.96875\n",
      "Epoch 50/50\n",
      "24/24 [==============================] - 30s 1s/step - loss: 0.1042 - accuracy: 0.9661 - val_loss: 0.1159 - val_accuracy: 0.9688\n",
      "\n",
      "Epoch 00050: val_accuracy did not improve from 0.96875\n"
>>>>>>> 8ba745979043ba59dd6bb26f4e97e1775a9f60e0
     ]
    }
   ],
   "source": [
    "history = model.fit(\n",
    "\n",
    "    train_generator.flow(x_train, y_train, batch_size = 16),\n",
    "    steps_per_epoch=x_train.shape[0] / 16,\n",
    "    epochs=50,\n",
    "    validation_data=(x_val, y_val),\n",
    "    callbacks=[learn_control, checkpoint]\n",
    ")"
   ]
  },
  {
   "cell_type": "code",
   "execution_count": 29,
   "metadata": {},
   "outputs": [],
   "source": [
<<<<<<< HEAD
    "with open('history_mixed.json', 'w') as f:\n",
=======
    "with open('D:\\FH\\Kurse\\semester_3\\medical_imaging\\repos\\Medical_Imaging_Elias\\ResNet_DenseNet_Model\\Densenet_Newhistory_mixed.json', 'w') as f:\n",
>>>>>>> 8ba745979043ba59dd6bb26f4e97e1775a9f60e0
    "    \n",
    "    json.dump(str(history.history), f)"
   ]
  },
  {
<<<<<<< HEAD
   "attachments": {},
=======
   "cell_type": "code",
   "execution_count": 20,
   "metadata": {},
   "outputs": [
    {
     "name": "stdout",
     "output_type": "stream",
     "text": [
      "INFO:tensorflow:Assets written to: ./densenet_mixed-data\\assets\n"
     ]
    }
   ],
   "source": [
    "model.save('./densenet_mixed-data')"
   ]
  },
  {
>>>>>>> 8ba745979043ba59dd6bb26f4e97e1775a9f60e0
   "cell_type": "markdown",
   "metadata": {},
   "source": [
    "## Prediction on Ground Truth Data"
   ]
  },
  {
   "cell_type": "code",
   "execution_count": 30,
   "metadata": {},
   "outputs": [],
   "source": [
    "filepath_model = \"./densenet_mixed_local.hdf5\"\n",
    "model.load_weights(filepath_model)"
   ]
  },
  {
   "cell_type": "code",
<<<<<<< HEAD
   "execution_count": 31,
   "metadata": {},
   "outputs": [
    {
     "name": "stdout",
     "output_type": "stream",
     "text": [
      "10/10 [==============================] - 17s 1s/step\n"
     ]
    }
   ],
=======
   "execution_count": 18,
   "metadata": {},
   "outputs": [],
>>>>>>> 8ba745979043ba59dd6bb26f4e97e1775a9f60e0
   "source": [
    "Y_val_pred = model.predict(x_val)"
   ]
  },
  {
   "cell_type": "code",
<<<<<<< HEAD
   "execution_count": 32,
=======
   "execution_count": 19,
>>>>>>> 8ba745979043ba59dd6bb26f4e97e1775a9f60e0
   "metadata": {},
   "outputs": [
    {
     "data": {
      "text/plain": [
<<<<<<< HEAD
       "0.796875"
      ]
     },
     "execution_count": 32,
=======
       "0.96875"
      ]
     },
     "execution_count": 19,
>>>>>>> 8ba745979043ba59dd6bb26f4e97e1775a9f60e0
     "metadata": {},
     "output_type": "execute_result"
    }
   ],
   "source": [
    "accuracy_score(np.argmax(y_val, axis=1), np.argmax(Y_val_pred, axis=1))"
   ]
<<<<<<< HEAD
=======
  },
  {
   "cell_type": "code",
   "execution_count": null,
   "metadata": {},
   "outputs": [],
   "source": []
  },
  {
   "cell_type": "code",
   "execution_count": 22,
   "metadata": {},
   "outputs": [],
   "source": [
    "Y_test_pred = model.predict(X_test)"
   ]
  },
  {
   "cell_type": "code",
   "execution_count": 23,
   "metadata": {},
   "outputs": [
    {
     "data": {
      "text/plain": [
       "0.925"
      ]
     },
     "execution_count": 23,
     "metadata": {},
     "output_type": "execute_result"
    }
   ],
   "source": [
    "accuracy_score(np.argmax(Y_test, axis=1), np.argmax(Y_test_pred, axis=1))"
   ]
  },
  {
   "cell_type": "code",
   "execution_count": null,
   "metadata": {},
   "outputs": [],
   "source": []
>>>>>>> 8ba745979043ba59dd6bb26f4e97e1775a9f60e0
  }
 ],
 "metadata": {
  "kernelspec": {
<<<<<<< HEAD
   "display_name": "Python 3",
=======
   "display_name": "Python 3 (ipykernel)",
>>>>>>> 8ba745979043ba59dd6bb26f4e97e1775a9f60e0
   "language": "python",
   "name": "python3"
  },
  "language_info": {
   "codemirror_mode": {
    "name": "ipython",
    "version": 3
   },
   "file_extension": ".py",
   "mimetype": "text/x-python",
   "name": "python",
   "nbconvert_exporter": "python",
   "pygments_lexer": "ipython3",
<<<<<<< HEAD
   "version": "3.10.1"
  },
  "orig_nbformat": 4,
=======
   "version": "3.9.12"
  },
>>>>>>> 8ba745979043ba59dd6bb26f4e97e1775a9f60e0
  "vscode": {
   "interpreter": {
    "hash": "3fc63de107a3995f66d33859f380f73bd26ac40da4b187ce627a4472b1acbfe0"
   }
  }
 },
 "nbformat": 4,
<<<<<<< HEAD
 "nbformat_minor": 2
=======
 "nbformat_minor": 4
>>>>>>> 8ba745979043ba59dd6bb26f4e97e1775a9f60e0
}
