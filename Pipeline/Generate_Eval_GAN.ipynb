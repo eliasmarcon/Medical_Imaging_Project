{
  "cells": [
    {
      "cell_type": "code",
      "execution_count": 1,
      "metadata": {
        "id": "-o00I0hq-wxa"
      },
      "outputs": [],
      "source": [
        "import numpy as np # linear algebra\n",
        "import pandas as pd # data processing, CSV file I/O (e.g. pd.read_csv)\n",
        "import os\n",
        "import cv2\n",
        "\n",
        "from matplotlib import pyplot as plt\n",
        "import tensorflow as tf\n",
        "from tqdm import tqdm\n",
        "from PIL import Image\n",
        "from tensorflow import keras\n",
        "from keras import Input\n",
        "from keras.layers import Dense, Reshape, LeakyReLU, Conv2D, Conv2DTranspose, Flatten, Dropout\n",
        "from keras.models import Model\n",
        "from keras.optimizers import RMSprop\n",
        "tf.get_logger().setLevel('INFO')"
      ]
    },
    {
      "cell_type": "code",
      "execution_count": 2,
      "metadata": {},
      "outputs": [],
      "source": [
        "def save_images(predictions, save_dir, cancer_type):\n",
        "\n",
        "    for i in range(predictions.shape[0]):\n",
        "\n",
        "        plt.imshow((predictions[i] * 255).astype(np.uint8)) #plt.imshow(predictions[i])  \n",
        "        plt.axis('off')\n",
        "        plt.savefig(os.path.join(save_dir,'gan_image_{}_{:03d}.png'.format(cancer_type, i))) \n",
        "        plt.close()\n",
        "\n",
        "    return 'Finished!'"
      ]
    },
    {
      "attachments": {},
      "cell_type": "markdown",
      "metadata": {},
      "source": [
        "## Global Variables"
      ]
    },
    {
      "cell_type": "code",
      "execution_count": 3,
      "metadata": {},
      "outputs": [],
      "source": [
        "LATENT_DIM = 32\n",
        "NUMBER_OF_IMAGES = 150\n",
        "CHANNELS = 3\n",
        "LATENT_VECTORS = np.random.normal(size = (NUMBER_OF_IMAGES, LATENT_DIM)) / 2"
      ]
    },
    {
      "attachments": {},
      "cell_type": "markdown",
      "metadata": {},
      "source": [
        "## Generator"
      ]
    },
    {
      "cell_type": "code",
      "execution_count": 4,
      "metadata": {},
      "outputs": [],
      "source": [
        "def create_generator():\n",
        "    gen_input = Input(shape=(LATENT_DIM, ))\n",
        "\n",
        "    x = Dense(128 * 16 * 16)(gen_input)\n",
        "    x = LeakyReLU()(x)\n",
        "    x = Reshape((16, 16, 128))(x)\n",
        "\n",
        "    x = Conv2D(256, 5, padding='same')(x)\n",
        "    x = LeakyReLU()(x)\n",
        "\n",
        "    x = Conv2DTranspose(256, 4, strides=2, padding='same')(x)\n",
        "    x = LeakyReLU()(x)\n",
        "\n",
        "    x = Conv2DTranspose(256, 4, strides=2, padding='same')(x)\n",
        "    x = LeakyReLU()(x)\n",
        "\n",
        "    x = Conv2DTranspose(256, 4, strides=2, padding='same')(x)\n",
        "    x = LeakyReLU()(x)\n",
        "\n",
        "    x = Conv2D(512, 5, padding='same')(x)\n",
        "    x = LeakyReLU()(x)\n",
        "    x = Conv2D(512, 5, padding='same')(x)\n",
        "    x = LeakyReLU()(x)\n",
        "    x = Conv2D(CHANNELS, 7, activation='tanh', padding='same')(x)\n",
        "\n",
        "    generator = Model(gen_input, x)\n",
        "    return generator"
      ]
    },
    {
      "cell_type": "code",
      "execution_count": 5,
      "metadata": {},
      "outputs": [
        {
          "name": "stdout",
          "output_type": "stream",
          "text": [
            "Model: \"model\"\n",
            "_________________________________________________________________\n",
            " Layer (type)                Output Shape              Param #   \n",
            "=================================================================\n",
            " input_1 (InputLayer)        [(None, 32)]              0         \n",
            "                                                                 \n",
            " dense (Dense)               (None, 32768)             1081344   \n",
            "                                                                 \n",
            " leaky_re_lu (LeakyReLU)     (None, 32768)             0         \n",
            "                                                                 \n",
            " reshape (Reshape)           (None, 16, 16, 128)       0         \n",
            "                                                                 \n",
            " conv2d (Conv2D)             (None, 16, 16, 256)       819456    \n",
            "                                                                 \n",
            " leaky_re_lu_1 (LeakyReLU)   (None, 16, 16, 256)       0         \n",
            "                                                                 \n",
            " conv2d_transpose (Conv2DTra  (None, 32, 32, 256)      1048832   \n",
            " nspose)                                                         \n",
            "                                                                 \n",
            " leaky_re_lu_2 (LeakyReLU)   (None, 32, 32, 256)       0         \n",
            "                                                                 \n",
            " conv2d_transpose_1 (Conv2DT  (None, 64, 64, 256)      1048832   \n",
            " ranspose)                                                       \n",
            "                                                                 \n",
            " leaky_re_lu_3 (LeakyReLU)   (None, 64, 64, 256)       0         \n",
            "                                                                 \n",
            " conv2d_transpose_2 (Conv2DT  (None, 128, 128, 256)    1048832   \n",
            " ranspose)                                                       \n",
            "                                                                 \n",
            " leaky_re_lu_4 (LeakyReLU)   (None, 128, 128, 256)     0         \n",
            "                                                                 \n",
            " conv2d_1 (Conv2D)           (None, 128, 128, 512)     3277312   \n",
            "                                                                 \n",
            " leaky_re_lu_5 (LeakyReLU)   (None, 128, 128, 512)     0         \n",
            "                                                                 \n",
            " conv2d_2 (Conv2D)           (None, 128, 128, 512)     6554112   \n",
            "                                                                 \n",
            " leaky_re_lu_6 (LeakyReLU)   (None, 128, 128, 512)     0         \n",
            "                                                                 \n",
            " conv2d_3 (Conv2D)           (None, 128, 128, 3)       75267     \n",
            "                                                                 \n",
            "=================================================================\n",
            "Total params: 14,953,987\n",
            "Trainable params: 14,953,987\n",
            "Non-trainable params: 0\n",
            "_________________________________________________________________\n"
          ]
        }
      ],
      "source": [
        "generator = create_generator()\n",
        "generator.summary()"
      ]
    },
    {
      "attachments": {},
      "cell_type": "markdown",
      "metadata": {},
      "source": [
        "## Adenosis"
      ]
    },
    {
      "cell_type": "code",
      "execution_count": 6,
      "metadata": {},
      "outputs": [],
      "source": [
        "save_dir_adenosis = 'D:/Medical_Imaging/Medical_Imaging_Zusatz/Gan_Images/benign/adenosis/'"
      ]
    },
    {
      "cell_type": "code",
      "execution_count": 7,
      "metadata": {},
      "outputs": [],
      "source": [
        "# Load checkpoint model\n",
        "model_path_adenosis = 'D:/Medical_Imaging/Medical_Imaging_Zusatz/Final_Checkpoints/adenosis_40x_16k/generator_model_16000.h5'\n",
        "generator_adenosis = tf.keras.models.load_model(model_path_adenosis, compile = False)"
      ]
    },
    {
      "cell_type": "code",
      "execution_count": 8,
      "metadata": {},
      "outputs": [
        {
          "name": "stdout",
          "output_type": "stream",
          "text": [
            "5/5 [==============================] - 114s 23s/step\n"
          ]
        }
      ],
      "source": [
        "# Create predictions\n",
        "predictions_adenosis = generator_adenosis.predict(LATENT_VECTORS)"
      ]
    },
    {
      "cell_type": "code",
      "execution_count": 9,
      "metadata": {},
      "outputs": [
        {
          "data": {
            "text/plain": [
              "'Finished!'"
            ]
          },
          "execution_count": 9,
          "metadata": {},
          "output_type": "execute_result"
        }
      ],
      "source": [
        "save_images(predictions_adenosis, save_dir_adenosis, 'adenosis')"
      ]
    },
    {
      "attachments": {},
      "cell_type": "markdown",
      "metadata": {},
      "source": [
        "## Phyllode"
      ]
    },
    {
      "cell_type": "code",
      "execution_count": 10,
      "metadata": {},
      "outputs": [],
      "source": [
        "save_dir_phyllode = 'D:/Medical_Imaging/Medical_Imaging_Zusatz/Gan_Images/benign/phyllodes_tumor/'"
      ]
    },
    {
      "cell_type": "code",
      "execution_count": 11,
      "metadata": {},
      "outputs": [],
      "source": [
        "# Load checkpoint model\n",
        "model_path_phyllode = 'D:/Medical_Imaging/Medical_Imaging_Zusatz/Final_Checkpoints/phyllodes_40x_76k/generator_model_76000.h5'\n",
        "generator_phyllode = tf.keras.models.load_model(model_path_phyllode, compile = False)"
      ]
    },
    {
      "cell_type": "code",
      "execution_count": 12,
      "metadata": {},
      "outputs": [
        {
          "name": "stdout",
          "output_type": "stream",
          "text": [
            "5/5 [==============================] - 128s 26s/step\n"
          ]
        }
      ],
      "source": [
        "# Create predictions\n",
        "predictions_phyllode = generator_phyllode.predict(LATENT_VECTORS)"
      ]
    },
    {
      "cell_type": "code",
      "execution_count": 13,
      "metadata": {},
      "outputs": [
        {
          "data": {
            "text/plain": [
              "'Finished!'"
            ]
          },
          "execution_count": 13,
          "metadata": {},
          "output_type": "execute_result"
        }
      ],
      "source": [
        "save_images(predictions_phyllode, save_dir_phyllode, 'phyllodes')"
      ]
    },
    {
      "attachments": {},
      "cell_type": "markdown",
      "metadata": {},
      "source": [
        "## Lobular"
      ]
    },
    {
      "cell_type": "code",
      "execution_count": 14,
      "metadata": {},
      "outputs": [],
      "source": [
        "save_dir_lobular = 'D:/Medical_Imaging/Medical_Imaging_Zusatz/Gan_Images/malignant/lobular_carcinoma/'"
      ]
    },
    {
      "cell_type": "code",
      "execution_count": 15,
      "metadata": {},
      "outputs": [],
      "source": [
        "# Load checkpoint model\n",
        "model_path_lobular = 'D:/Medical_Imaging/Medical_Imaging_Zusatz/Final_Checkpoints/lobular_40x_60k/generator_model_60000.h5'\n",
        "generator_lobular = tf.keras.models.load_model(model_path_lobular, compile = False)"
      ]
    },
    {
      "cell_type": "code",
      "execution_count": 16,
      "metadata": {},
      "outputs": [
        {
          "name": "stdout",
          "output_type": "stream",
          "text": [
            "5/5 [==============================] - 122s 24s/step\n"
          ]
        }
      ],
      "source": [
        "# Create predictions\n",
        "predictions_lobular = generator_lobular.predict(LATENT_VECTORS)"
      ]
    },
    {
      "cell_type": "code",
      "execution_count": 17,
      "metadata": {},
      "outputs": [
        {
          "data": {
            "text/plain": [
              "'Finished!'"
            ]
          },
          "execution_count": 17,
          "metadata": {},
          "output_type": "execute_result"
        }
      ],
      "source": [
        "save_images(predictions_lobular, save_dir_lobular, 'lobular')"
      ]
    },
    {
      "attachments": {},
      "cell_type": "markdown",
      "metadata": {},
      "source": [
        "## Papillary"
      ]
    },
    {
      "cell_type": "code",
      "execution_count": 18,
      "metadata": {},
      "outputs": [],
      "source": [
        "save_dir_papillary = 'D:/Medical_Imaging/Medical_Imaging_Zusatz/Gan_Images/malignant/papillary_carcinoma/'"
      ]
    },
    {
      "cell_type": "code",
      "execution_count": 19,
      "metadata": {},
      "outputs": [],
      "source": [
        "# Load checkpoint model\n",
        "model_path_papillary = 'D:/Medical_Imaging/Medical_Imaging_Zusatz/Final_Checkpoints/papillary_40x_100k/final_step_generator_model.h5'\n",
        "generator_papillary = tf.keras.models.load_model(model_path_papillary, compile = False)"
      ]
    },
    {
      "cell_type": "code",
      "execution_count": 20,
      "metadata": {},
      "outputs": [
        {
          "name": "stdout",
          "output_type": "stream",
          "text": [
            "5/5 [==============================] - 118s 23s/step\n"
          ]
        }
      ],
      "source": [
        "# Create predictions\n",
        "predictions_papillary = generator_papillary.predict(LATENT_VECTORS)"
      ]
    },
    {
      "cell_type": "code",
      "execution_count": 21,
      "metadata": {},
      "outputs": [
        {
          "data": {
            "text/plain": [
              "'Finished!'"
            ]
          },
          "execution_count": 21,
          "metadata": {},
          "output_type": "execute_result"
        }
      ],
      "source": [
        "save_images(predictions_papillary, save_dir_papillary, 'papillary')"
      ]
    },
    {
      "attachments": {},
      "cell_type": "markdown",
      "metadata": {},
      "source": [
        "## Frechet Inception Distance Score (FID-Score)"
      ]
    },
    {
      "attachments": {},
      "cell_type": "markdown",
      "metadata": {},
      "source": [
        "Source:\n",
        "- https://machinelearningmastery.com/how-to-implement-the-frechet-inception-distance-fid-from-scratch/"
      ]
    },
    {
      "cell_type": "code",
      "execution_count": 22,
      "metadata": {},
      "outputs": [],
      "source": [
        "# example of calculating the frechet inception distance in Keras for cifar10\n",
        "import numpy\n",
        "from numpy import cov\n",
        "from numpy import trace\n",
        "from numpy import iscomplexobj\n",
        "from numpy import asarray\n",
        "from numpy.random import shuffle\n",
        "from scipy.linalg import sqrtm\n",
        "from keras.applications.inception_v3 import InceptionV3\n",
        "from keras.applications.inception_v3 import preprocess_input\n",
        "from keras.datasets.mnist import load_data\n",
        "from skimage.transform import resize\n",
        "from keras.datasets import cifar10"
      ]
    },
    {
      "cell_type": "code",
      "execution_count": 23,
      "metadata": {},
      "outputs": [],
      "source": [
        "# load original data\n",
        "def get_all_images(path, resize_param):\n",
        "\n",
        "    images = []\n",
        "    read = lambda imname: np.asarray(Image.open(imname).convert(\"L\"))\n",
        "\n",
        "    for image in os.listdir(path):\n",
        "\n",
        "        img = cv2.imread(path + image)\n",
        "\n",
        "        img = cv2.resize(img, (resize_param, resize_param))\n",
        "\n",
        "        images.append(np.array(img))\n",
        "\n",
        "    return images"
      ]
    },
    {
      "cell_type": "code",
      "execution_count": 24,
      "metadata": {},
      "outputs": [],
      "source": [
        "# calculate frechet inception distance\n",
        "def calculate_fid(model, images1, images2):\n",
        "\n",
        "    # calculate activations\n",
        "    act1 = model.predict(images1)\n",
        "    act2 = model.predict(images2)\n",
        "    # calculate mean and covariance statistics\n",
        "    mu1, sigma1 = act1.mean(axis=0), cov(act1, rowvar=False)\n",
        "    mu2, sigma2 = act2.mean(axis=0), cov(act2, rowvar=False)\n",
        "    # calculate sum squared difference between means\n",
        "    ssdiff = numpy.sum((mu1 - mu2)**2.0)\n",
        "    # calculate sqrt of product between cov\n",
        "    covmean = sqrtm(sigma1.dot(sigma2))\n",
        "    # check and correct imaginary numbers from sqrt\n",
        "    if iscomplexobj(covmean):\n",
        "        covmean = covmean.real\n",
        "        # calculate score\n",
        "        fid = ssdiff + trace(sigma1 + sigma2 - 2.0 * covmean)\n",
        "\n",
        "    return fid"
      ]
    },
    {
      "cell_type": "code",
      "execution_count": 25,
      "metadata": {},
      "outputs": [],
      "source": [
        "path_original_adenosis = 'D:/Medical_Imaging/Medical_Imaging_Zusatz/BreaKHis_v1/Dataset_40X/benign/adenosis/'\n",
        "path_original_phyllode = 'D:/Medical_Imaging/Medical_Imaging_Zusatz/BreaKHis_v1/Dataset_40X/benign/phyllodes_tumor/'\n",
        "path_original_lobular = 'D:/Medical_Imaging/Medical_Imaging_Zusatz/BreaKHis_v1/Dataset_40X/malignant/lobular_carcinoma/'\n",
        "path_original_papillary = 'D:/Medical_Imaging/Medical_Imaging_Zusatz/BreaKHis_v1/Dataset_40X/malignant/papillary_carcinoma/'"
      ]
    },
    {
      "cell_type": "code",
      "execution_count": 26,
      "metadata": {},
      "outputs": [],
      "source": [
        "original_adenosis = numpy.array(get_all_images(path_original_adenosis, 128))\n",
        "original_phyllode = numpy.array(get_all_images(path_original_phyllode, 128))\n",
        "original_lobular = numpy.array(get_all_images(path_original_lobular, 128))\n",
        "original_papillary = numpy.array(get_all_images(path_original_papillary, 128))"
      ]
    },
    {
      "cell_type": "code",
      "execution_count": 27,
      "metadata": {},
      "outputs": [],
      "source": [
        "# prepare the inception v3 model\n",
        "model = InceptionV3(include_top = False, pooling = 'avg', input_shape = (128, 128, 3))"
      ]
    },
    {
      "cell_type": "code",
      "execution_count": 28,
      "metadata": {},
      "outputs": [
        {
          "name": "stdout",
          "output_type": "stream",
          "text": [
            "5/5 [==============================] - 2s 173ms/step\n",
            "4/4 [==============================] - 1s 210ms/step\n",
            "FID Adenosis: 3614.473\n"
          ]
        }
      ],
      "source": [
        "# pre-process images\n",
        "images1_adenosis = preprocess_input(predictions_adenosis)\n",
        "images2_adenosis = preprocess_input(original_adenosis)\n",
        "\n",
        "# calculate fid adenosis\n",
        "fid_adenosis = calculate_fid(model, images1_adenosis, images2_adenosis)\n",
        "print('FID Adenosis: %.3f' % fid_adenosis)"
      ]
    },
    {
      "cell_type": "code",
      "execution_count": 29,
      "metadata": {},
      "outputs": [
        {
          "name": "stdout",
          "output_type": "stream",
          "text": [
            "5/5 [==============================] - 1s 179ms/step\n",
            "4/4 [==============================] - 1s 150ms/step\n",
            "FID Phyllode: 3660.835\n"
          ]
        }
      ],
      "source": [
        "# pre-process images\n",
        "images1_phyllode = preprocess_input(predictions_phyllode)\n",
        "images2_phyllode = preprocess_input(original_phyllode)\n",
        "\n",
        "# calculate fid adenosis\n",
        "fid_phyllode = calculate_fid(model, images1_phyllode, images2_phyllode)\n",
        "print('FID Phyllode: %.3f' % fid_phyllode)"
      ]
    },
    {
      "cell_type": "code",
      "execution_count": 30,
      "metadata": {},
      "outputs": [
        {
          "name": "stdout",
          "output_type": "stream",
          "text": [
            "5/5 [==============================] - 1s 175ms/step\n",
            "5/5 [==============================] - 1s 202ms/step\n",
            "FID Lobular: 2913.661\n"
          ]
        }
      ],
      "source": [
        "# pre-process images\n",
        "images1_lobular = preprocess_input(predictions_lobular)\n",
        "images2_lobular = preprocess_input(original_lobular)\n",
        "\n",
        "# calculate fid adenosis\n",
        "fid_lobular = calculate_fid(model, images1_lobular, images2_lobular)\n",
        "print('FID Lobular: %.3f' % fid_lobular)"
      ]
    },
    {
      "cell_type": "code",
      "execution_count": 31,
      "metadata": {},
      "outputs": [
        {
          "name": "stdout",
          "output_type": "stream",
          "text": [
            "5/5 [==============================] - 1s 232ms/step\n",
            "5/5 [==============================] - 1s 188ms/step\n",
            "FID Papillary: 3634.769\n"
          ]
        }
      ],
      "source": [
        "# pre-process images\n",
        "images1_papillary = preprocess_input(predictions_papillary)\n",
        "images2_papillary = preprocess_input(original_papillary)\n",
        "\n",
        "# calculate fid adenosis\n",
        "fid_papillary = calculate_fid(model, images1_papillary, images2_papillary)\n",
        "print('FID Papillary: %.3f' % fid_papillary)"
      ]
    },
    {
      "cell_type": "code",
      "execution_count": 35,
      "metadata": {},
      "outputs": [
        {
          "data": {
            "text/plain": [
              "<BarContainer object of 4 artists>"
            ]
          },
          "execution_count": 35,
          "metadata": {},
          "output_type": "execute_result"
        },
        {
          "data": {
            "image/png": "[encoded data removed]",
            "text/plain": [
              "<Figure size 1080x720 with 1 Axes>"
            ]
          },
          "metadata": {
            "needs_background": "light"
          },
          "output_type": "display_data"
        }
      ],
      "source": [
        "plt.rcParams[\"figure.figsize\"] = [15, 10]\n",
        "plt.title('FID-Scores for Adenosis, Phyllodes, Lobular und Pappilary', fontsize = 18)\n",
        "plt.ylabel('FID-Score', fontsize = 14)\n",
        "plt.bar(['Adenosis', 'Phyllode', 'Lobular', 'Papillary'], [fid_adenosis, fid_phyllode, fid_lobular, fid_papillary])"
      ]
    },
    {
      "cell_type": "code",
      "execution_count": 36,
      "metadata": {},
      "outputs": [],
      "source": [
        "d = {'Cancer_Type': ['Adenosis', 'Phyllode', 'Lobular', 'Papillary'], 'FID_Score': [fid_adenosis, fid_phyllode, fid_lobular, fid_papillary]}\n",
        "df = pd.DataFrame(data = d)\n",
        "df.to_csv(\"FID_Scores.csv\", index = False)"
      ]
    }
  ],
  "metadata": {
    "colab": {
      "provenance": []
    },
    "kernelspec": {
      "display_name": "Python 3",
      "language": "python",
      "name": "python3"
    },
    "language_info": {
      "codemirror_mode": {
        "name": "ipython",
        "version": 3
      },
      "file_extension": ".py",
      "mimetype": "text/x-python",
      "name": "python",
      "nbconvert_exporter": "python",
      "pygments_lexer": "ipython3",
      "version": "3.10.1"
    },
    "orig_nbformat": 4,
    "vscode": {
      "interpreter": {
        "hash": "3fc63de107a3995f66d33859f380f73bd26ac40da4b187ce627a4472b1acbfe0"
      }
    }
  },
  "nbformat": 4,
  "nbformat_minor": 0
}
