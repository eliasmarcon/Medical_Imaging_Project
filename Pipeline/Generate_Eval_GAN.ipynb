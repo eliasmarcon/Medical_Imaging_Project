{
  "cells": [
    {
      "cell_type": "code",
      "execution_count": 1,
      "metadata": {
        "id": "-o00I0hq-wxa"
      },
      "outputs": [],
      "source": [
        "import tensorflow as tf\n",
        "from utils_generate_eval_GAN import *"
      ]
    },
    {
      "cell_type": "code",
      "execution_count": 2,
      "metadata": {
        "id": "eKDN2VB--wxc"
      },
      "outputs": [],
      "source": [
        "generator = Generator()\n",
        "generator_optimizer = tf.keras.optimizers.legacy.Adam(1e-4)"
      ]
    },
    {
      "cell_type": "markdown",
      "metadata": {
        "id": "uMDb7unI-wxd"
      },
      "source": [
        "## Temp Checkpoint until each cancer type gets checkpoint"
      ]
    },
    {
      "cell_type": "code",
      "execution_count": 3,
      "metadata": {
        "id": "lnA32qUD-wxe"
      },
      "outputs": [
        {
          "data": {
            "text/plain": [
              "['D:/Medical_Imaging_Zusatz/Saved_Checkpoints/checkpoints/',\n",
              " 'D:/Medical_Imaging_Zusatz/Saved_Checkpoints/checkpoints/',\n",
              " 'D:/Medical_Imaging_Zusatz/Saved_Checkpoints/checkpoints/',\n",
              " 'D:/Medical_Imaging_Zusatz/Saved_Checkpoints/checkpoints/']"
            ]
          },
          "execution_count": 3,
          "metadata": {},
          "output_type": "execute_result"
        }
      ],
      "source": [
        "temp_checkpoint_path = \"D:/Medical_Imaging_Zusatz/Saved_Checkpoints/checkpoints/\"\n",
        "\n",
        "temp_checkpoint_array = [temp_checkpoint_path, temp_checkpoint_path, temp_checkpoint_path, temp_checkpoint_path]\n",
        "temp_checkpoint_array"
      ]
    },
    {
      "cell_type": "markdown",
      "metadata": {
        "id": "QsJJlTar-wxe"
      },
      "source": [
        "## Benign Images"
      ]
    },
    {
      "cell_type": "code",
      "execution_count": 4,
      "metadata": {
        "id": "1Kci3O-4-wxe",
        "outputId": "e3d19501-a9c9-4cdb-86e1-f9f38e1ff962"
      },
      "outputs": [
        {
          "name": "stdout",
          "output_type": "stream",
          "text": [
            "['adenosis', 'fibroadenoma', 'phyllodes_tumor', 'tubular_adenoma']\n"
          ]
        }
      ],
      "source": [
        "types_benign = get_types_array(\"benign\")\n",
        "\n",
        "print(types_benign)"
      ]
    },
    {
      "cell_type": "code",
      "execution_count": 5,
      "metadata": {
        "id": "XjL5G-Ga-wxf",
        "outputId": "f376f53f-5f5c-4252-ddab-56fa00eae01e"
      },
      "outputs": [
        {
          "name": "stdout",
          "output_type": "stream",
          "text": [
            "['D:/Saved_Checkpoints/benign/tubular_adenoma/', 'D:/Saved_Checkpoints/benign/tubular_adenoma/', 'D:/Saved_Checkpoints/benign/tubular_adenoma/', 'D:/Saved_Checkpoints/benign/tubular_adenoma/']\n"
          ]
        }
      ],
      "source": [
        "checkpoint_path_benign = 'D:/Saved_Checkpoints/benign/'\n",
        "checkpoint_path_benign_array = get_paths(checkpoint_path_benign, types_benign)\n",
        "\n",
        "checkpoint_path_benign_array[0] = checkpoint_path_benign_array[3]\n",
        "checkpoint_path_benign_array[1] = checkpoint_path_benign_array[3]\n",
        "checkpoint_path_benign_array[2] = checkpoint_path_benign_array[3]\n",
        "checkpoint_path_benign_array[3] = checkpoint_path_benign_array[3]\n",
        "\n",
        "print(checkpoint_path_benign_array)"
      ]
    },
    {
      "cell_type": "code",
      "execution_count": 6,
      "metadata": {
        "id": "fIOOzo0T-wxg",
        "outputId": "15845b69-0cc4-44aa-ba58-757139ab7c7d"
      },
      "outputs": [
        {
          "name": "stdout",
          "output_type": "stream",
          "text": [
            "['D:/Medical_Imaging_Zusatz/Gan_Images/benign/adenosis/', 'D:/Medical_Imaging_Zusatz/Gan_Images/benign/fibroadenoma/', 'D:/Medical_Imaging_Zusatz/Gan_Images/benign/phyllodes_tumor/', 'D:/Medical_Imaging_Zusatz/Gan_Images/benign/tubular_adenoma/']\n"
          ]
        }
      ],
      "source": [
        "#benign folders\n",
        "save_dir_benign = \"D:/Medical_Imaging_Zusatz/Gan_Images/benign/\"\n",
        "save_dir_benign_array = get_paths(save_dir_benign, types_benign)\n",
        "\n",
        "print(save_dir_benign_array)"
      ]
    },
    {
      "cell_type": "code",
      "execution_count": 7,
      "metadata": {
        "id": "g3MpEktu-wxg"
      },
      "outputs": [
        {
          "name": "stdout",
          "output_type": "stream",
          "text": [
            "D:/Saved_Checkpoints/benign/tubular_adenoma/\n",
            "D:/Saved_Checkpoints/benign/tubular_adenoma/\n",
            "D:/Saved_Checkpoints/benign/tubular_adenoma/\n",
            "D:/Saved_Checkpoints/benign/tubular_adenoma/\n"
          ]
        }
      ],
      "source": [
        "# generate_sample_images(generator, generator_optimizer, temp_checkpoint_array, save_dir_benign_array, types_benign)\n",
        "generate_sample_images(generator, generator_optimizer, checkpoint_path_benign_array, save_dir_benign_array, types_benign)"
      ]
    },
    {
      "cell_type": "markdown",
      "metadata": {
        "id": "Ut5Ayc5D-wxh"
      },
      "source": [
        "## Malignant Images"
      ]
    },
    {
      "cell_type": "code",
      "execution_count": 10,
      "metadata": {
        "id": "k-fYXj9Z-wxh",
        "outputId": "fbdc5120-75da-4231-8649-d34e20e7a277"
      },
      "outputs": [
        {
          "name": "stdout",
          "output_type": "stream",
          "text": [
            "['ductal_carcinoma', 'lobular_carcinoma', 'mucinous_carcinoma', 'papillary_carcinoma']\n"
          ]
        }
      ],
      "source": [
        "types_malignant = get_types_array(\"malignant\")\n",
        "\n",
        "print(types_malignant)"
      ]
    },
    {
      "cell_type": "code",
      "execution_count": 11,
      "metadata": {
        "id": "QOkH_AID-wxh",
        "outputId": "1b8ccb59-0ce9-4610-91b5-4b3bad752c50"
      },
      "outputs": [
        {
          "name": "stdout",
          "output_type": "stream",
          "text": [
            "['D:/Saved_Checkpoints/malignant/ductal_carcinoma/', 'D:/Saved_Checkpoints/malignant/lobular_carcinoma/', 'D:/Saved_Checkpoints/malignant/mucinous_carcinoma/', 'D:/Saved_Checkpoints/malignant/papillary_carcinoma/']\n"
          ]
        }
      ],
      "source": [
        "# Checkpoint Malignant\n",
        "checkpoint_path_malignant = 'D:/Saved_Checkpoints/malignant/'\n",
        "checkpoint_path_malignant_array = get_paths(checkpoint_path_malignant, types_malignant)\n",
        "\n",
        "print(checkpoint_path_malignant_array)"
      ]
    },
    {
      "cell_type": "code",
      "execution_count": 12,
      "metadata": {
        "id": "zfqwvEMq-wxh",
        "outputId": "e298d27d-ed90-48e4-de6d-8d02120093e2"
      },
      "outputs": [
        {
          "name": "stdout",
          "output_type": "stream",
          "text": [
            "['D:/Medical_Imaging_Zusatz/Gan_Images/malignant/ductal_carcinoma/', 'D:/Medical_Imaging_Zusatz/Gan_Images/malignant/lobular_carcinoma/', 'D:/Medical_Imaging_Zusatz/Gan_Images/malignant/mucinous_carcinoma/', 'D:/Medical_Imaging_Zusatz/Gan_Images/malignant/papillary_carcinoma/']\n"
          ]
        }
      ],
      "source": [
        "#malignant folders\n",
        "save_dir_malignant = \"D:/Medical_Imaging_Zusatz/Gan_Images/malignant/\"\n",
        "save_dir_malignant_array = get_paths(save_dir_malignant, types_malignant)\n",
        "\n",
        "print(save_dir_malignant_array)"
      ]
    },
    {
      "cell_type": "code",
      "execution_count": 13,
      "metadata": {
        "id": "3K6lrgQI-wxi"
      },
      "outputs": [
        {
          "name": "stdout",
          "output_type": "stream",
          "text": [
            "D:/Saved_Checkpoints/malignant/ductal_carcinoma/\n",
            "D:/Saved_Checkpoints/malignant/lobular_carcinoma/\n",
            "D:/Saved_Checkpoints/malignant/mucinous_carcinoma/\n",
            "D:/Saved_Checkpoints/malignant/papillary_carcinoma/\n"
          ]
        }
      ],
      "source": [
        "# generate_sample_images(generator, generator_optimizer, temp_checkpoint_array, save_dir_benign_array, types_benign)\n",
        "generate_sample_images(generator, generator_optimizer, checkpoint_path_malignant_array, save_dir_malignant_array, types_malignant)"
      ]
    },
    {
      "cell_type": "markdown",
      "metadata": {
        "id": "P10W6iU--wxi"
      },
      "source": [
        "## Evaluate generated Images"
      ]
    },
    {
      "cell_type": "code",
      "execution_count": null,
      "metadata": {
        "id": "WQCPLz2q-wxi"
      },
      "outputs": [],
      "source": []
    },
    {
      "cell_type": "markdown",
      "metadata": {
        "id": "dTfu_pgF-wxi"
      },
      "source": [
        "## Backup"
      ]
    },
    {
      "cell_type": "code",
      "execution_count": null,
      "metadata": {
        "id": "51_0JAOB-wxi"
      },
      "outputs": [],
      "source": [
        "# for index, checkpoint_path in enumerate(checkpoint_path_benign_array):\n",
        "\n",
        "#     # print(checkpoint_path)\n",
        "\n",
        "#     checkpoint = tf.train.Checkpoint(generator_optimizer = generator_optimizer, generator = generator)\n",
        "\n",
        "#     checkpoint.restore(tf.train.latest_checkpoint(checkpoint_path))\n",
        "\n",
        "#     # print(checkpoint)\n",
        "\n",
        "#     # random vector for image generation \n",
        "#     random_vector_for_generation = tf.random.normal([NUM_EXAMPLES_TO_GENERATE, NOISE_DIM])\n",
        "\n",
        "#     # print(random_vector_for_generation)\n",
        "\n",
        "#     predictions = generator(random_vector_for_generation, training = False)\n",
        "\n",
        "#     for number, prediction in enumerate(predictions):\n",
        "\n",
        "#         fig = plt.figure(figsize=(8, 8))\n",
        "\n",
        "#         #    for i in range(predictions.shape[0]):\n",
        "#         #       plt.subplot(4, 4, i + 1)\n",
        "#         plt.imshow(prediction[ :, :, 0] * 127.5 + 127.5, cmap = 'gray')\n",
        "#         # plt.title(f'Generated image at epoch: {Temp}')\n",
        "#         plt.axis('off')\n",
        "#         # plt.close()\n",
        "#         plt.savefig(os.path.join(save_dir_benign_array[index], 'GAN_Image_{}_{:04d}.png'.format(benign_types[index], number)))"
      ]
    }
  ],
  "metadata": {
    "colab": {
      "provenance": []
    },
    "kernelspec": {
      "display_name": "Python 3",
      "language": "python",
      "name": "python3"
    },
    "language_info": {
      "codemirror_mode": {
        "name": "ipython",
        "version": 3
      },
      "file_extension": ".py",
      "mimetype": "text/x-python",
      "name": "python",
      "nbconvert_exporter": "python",
      "pygments_lexer": "ipython3",
      "version": "3.10.1"
    },
    "orig_nbformat": 4,
    "vscode": {
      "interpreter": {
        "hash": "3fc63de107a3995f66d33859f380f73bd26ac40da4b187ce627a4472b1acbfe0"
      }
    }
  },
  "nbformat": 4,
  "nbformat_minor": 0
}
