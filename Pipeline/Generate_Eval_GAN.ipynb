{
  "cells": [
    {
      "cell_type": "code",
      "execution_count": 1,
      "metadata": {
        "id": "-o00I0hq-wxa"
      },
      "outputs": [],
      "source": [
        "import tensorflow as tf\n",
        "import matplotlib.pyplot as plt\n",
        "import os"
      ]
    },
    {
      "cell_type": "code",
      "execution_count": 2,
      "metadata": {},
      "outputs": [],
      "source": [
        "# Global Variables\n",
        "NOISE_DIM = 100\n",
        "NUM_EXAMPLES_TO_GENERATE = 500"
      ]
    },
    {
      "cell_type": "code",
      "execution_count": 3,
      "metadata": {},
      "outputs": [],
      "source": [
        "# create generator class\n",
        "class Generator(tf.keras.Model):\n",
        "\n",
        "    def __init__(self):\n",
        "        super(Generator, self).__init__()\n",
        "        self.fc1 = tf.keras.layers.Dense(8 * 8 * 256, use_bias=False)\n",
        "        self.batchnorm1 = tf.keras.layers.BatchNormalization()\n",
        "\n",
        "        self.conv1 = tf.keras.layers.Conv2DTranspose(256 * 8, (4, 4), strides=(1, 1), padding='same', use_bias=False)\n",
        "        self.batchnorm2 = tf.keras.layers.BatchNormalization()\n",
        "\n",
        "        self.conv2 = tf.keras.layers.Conv2DTranspose(256 * 4, (4, 4), strides=(2, 2), padding='same', use_bias=False)\n",
        "        self.batchnorm3 = tf.keras.layers.BatchNormalization()\n",
        "\n",
        "        self.conv3 = tf.keras.layers.Conv2DTranspose(256 * 2, (4, 4), strides=(2, 2), padding='same', use_bias=False)\n",
        "        self.batchnorm4 = tf.keras.layers.BatchNormalization()\n",
        "\n",
        "        self.conv4 = tf.keras.layers.Conv2DTranspose(256 * 1, (4, 4), strides=(2, 2), padding='same', use_bias=False)\n",
        "        self.batchnorm5 = tf.keras.layers.BatchNormalization()\n",
        "\n",
        "        self.conv5 = tf.keras.layers.Conv2DTranspose(128, (4, 4), strides=(2, 2), padding='same', use_bias=False)\n",
        "        self.batchnorm6 = tf.keras.layers.BatchNormalization()\n",
        "\n",
        "        self.conv6 = tf.keras.layers.Conv2DTranspose(1, (4, 4), strides=(2, 2), padding='same', use_bias=False)\n",
        "\n",
        "    def call(self, x, training=True):\n",
        "        x = self.fc1(x)\n",
        "        x = self.batchnorm1(x, training=training)\n",
        "        x = tf.nn.relu(x)\n",
        "\n",
        "        x = tf.reshape(x, shape=(-1, 8, 8, 256))\n",
        "\n",
        "        x = self.conv1(x)\n",
        "        x = self.batchnorm2(x, training=training)\n",
        "        x = tf.nn.relu(x)\n",
        "\n",
        "        x = self.conv2(x)\n",
        "        x = self.batchnorm3(x, training=training)\n",
        "        x = tf.nn.relu(x)\n",
        "\n",
        "        x = self.conv3(x)\n",
        "        x = self.batchnorm4(x, training=training)\n",
        "        x = tf.nn.relu(x)\n",
        "\n",
        "        x = self.conv4(x)\n",
        "        x = self.batchnorm5(x, training=training)\n",
        "        x = tf.nn.relu(x)\n",
        "\n",
        "        x = self.conv5(x)\n",
        "        x = self.batchnorm6(x, training=training)\n",
        "        x = tf.nn.relu(x)\n",
        "\n",
        "        x = tf.nn.tanh(self.conv6(x))\n",
        "\n",
        "        return x\n"
      ]
    },
    {
      "attachments": {},
      "cell_type": "markdown",
      "metadata": {},
      "source": [
        "## Benign Types"
      ]
    },
    {
      "attachments": {},
      "cell_type": "markdown",
      "metadata": {},
      "source": [
        "### Adenosis"
      ]
    },
    {
      "cell_type": "code",
      "execution_count": 4,
      "metadata": {},
      "outputs": [],
      "source": [
        "generator_adenosis = Generator()\n",
        "generator_optimizer_adenosis = tf.keras.optimizers.legacy.Adam(1e-4)\n",
        "\n",
        "checkpoint_path_adenosis = 'D:/Medical_Imaging_Zusatz/Saved_Checkpoints/benign/adenosis/'\n",
        "save_dir_adenosis = \"D:/Medical_Imaging_Zusatz/Gan_Images/benign/adenosis/\""
      ]
    },
    {
      "cell_type": "code",
      "execution_count": 5,
      "metadata": {},
      "outputs": [],
      "source": [
        "checkpoint_adenosis = tf.train.Checkpoint(generator_optimizer = generator_optimizer_adenosis, generator = generator_adenosis)\n",
        "checkpoint_adenosis.restore(tf.train.latest_checkpoint(checkpoint_path_adenosis))\n",
        "\n",
        "# random vector for image generation \n",
        "random_vector_for_generation = tf.random.normal([NUM_EXAMPLES_TO_GENERATE, NOISE_DIM])\n",
        "\n",
        "predictions = generator_adenosis(random_vector_for_generation, training = False)\n",
        "\n",
        "for number, prediction in enumerate(predictions):\n",
        "\n",
        "    fig = plt.figure(figsize = (8, 8))\n",
        "    plt.imshow(prediction[ :, :, 0] * 127.5 + 127.5, cmap = 'gray')\n",
        "    plt.axis('off')\n",
        "    plt.savefig(os.path.join(save_dir_adenosis, 'gan_image_{}_{:04d}.png'.format('adenosis', number)))\n",
        "    plt.close()"
      ]
    },
    {
      "attachments": {},
      "cell_type": "markdown",
      "metadata": {},
      "source": [
        "### Fibroadenoma"
      ]
    },
    {
      "cell_type": "code",
      "execution_count": 6,
      "metadata": {},
      "outputs": [],
      "source": [
        "generator_fibroadenoma = Generator()\n",
        "generator_optimizer_fibroadenoma = tf.keras.optimizers.legacy.Adam(1e-4)\n",
        "\n",
        "checkpoint_path_fibroadenoma = 'D:/Medical_Imaging_Zusatz/Saved_Checkpoints/benign/fibroadenoma/'\n",
        "save_dir_fibroadenoma = \"D:/Medical_Imaging_Zusatz/Gan_Images/benign/fibroadenoma/\""
      ]
    },
    {
      "cell_type": "code",
      "execution_count": 8,
      "metadata": {},
      "outputs": [],
      "source": [
        "checkpoint_fibroadenoma = tf.train.Checkpoint(generator_optimizer = generator_optimizer_fibroadenoma, generator = generator_fibroadenoma)\n",
        "checkpoint_fibroadenoma.restore(tf.train.latest_checkpoint(checkpoint_path_fibroadenoma))\n",
        "\n",
        "# random vector for image generation \n",
        "random_vector_for_generation = tf.random.normal([NUM_EXAMPLES_TO_GENERATE, NOISE_DIM])\n",
        "\n",
        "predictions = generator_fibroadenoma(random_vector_for_generation, training = False)\n",
        "\n",
        "for number, prediction in enumerate(predictions):\n",
        "\n",
        "    fig = plt.figure(figsize = (8, 8))\n",
        "    plt.imshow(prediction[ :, :, 0] * 127.5 + 127.5, cmap = 'gray')\n",
        "    plt.axis('off')\n",
        "    plt.savefig(os.path.join(save_dir_fibroadenoma, 'gan_image_{}_{:04d}.png'.format('fibroadenoma', number)))\n",
        "    plt.close()"
      ]
    },
    {
      "attachments": {},
      "cell_type": "markdown",
      "metadata": {},
      "source": [
        "### Phyllodes_tumor"
      ]
    },
    {
      "cell_type": "code",
      "execution_count": 9,
      "metadata": {},
      "outputs": [],
      "source": [
        "generator_phyllodes_tumor = Generator()\n",
        "generator_optimizer_phyllodes_tumor = tf.keras.optimizers.legacy.Adam(1e-4)\n",
        "\n",
        "checkpoint_path_phyllodes_tumor = 'D:/Medical_Imaging_Zusatz/Saved_Checkpoints/benign/phyllodes_tumor/'\n",
        "save_dir_phyllodes_tumor = \"D:/Medical_Imaging_Zusatz/Gan_Images/benign/phyllodes_tumor/\""
      ]
    },
    {
      "cell_type": "code",
      "execution_count": 10,
      "metadata": {},
      "outputs": [],
      "source": [
        "checkpoint_phyllodes_tumor = tf.train.Checkpoint(generator_optimizer = generator_optimizer_phyllodes_tumor, generator = generator_phyllodes_tumor)\n",
        "checkpoint_phyllodes_tumor.restore(tf.train.latest_checkpoint(checkpoint_path_phyllodes_tumor))\n",
        "\n",
        "# random vector for image generation \n",
        "random_vector_for_generation = tf.random.normal([NUM_EXAMPLES_TO_GENERATE, NOISE_DIM])\n",
        "\n",
        "predictions = generator_phyllodes_tumor(random_vector_for_generation, training = False)\n",
        "\n",
        "for number, prediction in enumerate(predictions):\n",
        "\n",
        "    fig = plt.figure(figsize = (8, 8))\n",
        "    plt.imshow(prediction[ :, :, 0] * 127.5 + 127.5, cmap = 'gray')\n",
        "    plt.axis('off')\n",
        "    plt.savefig(os.path.join(save_dir_phyllodes_tumor, 'gan_image_{}_{:04d}.png'.format('phyllodes_tumor', number)))\n",
        "    plt.close()"
      ]
    },
    {
      "attachments": {},
      "cell_type": "markdown",
      "metadata": {},
      "source": [
        "### Tubular_adenoma"
      ]
    },
    {
      "cell_type": "code",
      "execution_count": 11,
      "metadata": {},
      "outputs": [],
      "source": [
        "generator_tubular_adenoma = Generator()\n",
        "generator_optimizer_tubular_adenoma = tf.keras.optimizers.legacy.Adam(1e-4)\n",
        "\n",
        "checkpoint_path_tubular_adenoma = 'D:/Medical_Imaging_Zusatz/Saved_Checkpoints/benign/tubular_adenoma/'\n",
        "save_dir_tubular_adenoma = \"D:/Medical_Imaging_Zusatz/Gan_Images/benign/tubular_adenoma/\""
      ]
    },
    {
      "cell_type": "code",
      "execution_count": 12,
      "metadata": {},
      "outputs": [],
      "source": [
        "checkpoint_tubular_adenoma = tf.train.Checkpoint(generator_optimizer = generator_optimizer_tubular_adenoma, generator = generator_tubular_adenoma)\n",
        "checkpoint_tubular_adenoma.restore(tf.train.latest_checkpoint(checkpoint_path_tubular_adenoma))\n",
        "\n",
        "# random vector for image generation \n",
        "random_vector_for_generation = tf.random.normal([NUM_EXAMPLES_TO_GENERATE, NOISE_DIM])\n",
        "\n",
        "predictions = generator_tubular_adenoma(random_vector_for_generation, training = False)\n",
        "\n",
        "for number, prediction in enumerate(predictions):\n",
        "\n",
        "    fig = plt.figure(figsize = (8, 8))\n",
        "    plt.imshow(prediction[ :, :, 0] * 127.5 + 127.5, cmap = 'gray')\n",
        "    plt.axis('off')\n",
        "    plt.savefig(os.path.join(save_dir_tubular_adenoma, 'gan_image_{}_{:04d}.png'.format('tubular_adenoma', number)))\n",
        "    plt.close()"
      ]
    },
    {
      "cell_type": "markdown",
      "metadata": {
        "id": "Ut5Ayc5D-wxh"
      },
      "source": [
        "## Malignant Images"
      ]
    },
    {
      "attachments": {},
      "cell_type": "markdown",
      "metadata": {},
      "source": [
        "### Ductal_carcinoma"
      ]
    },
    {
      "cell_type": "code",
      "execution_count": 16,
      "metadata": {},
      "outputs": [],
      "source": [
        "generator_ductal_carcinoma = Generator()\n",
        "generator_optimizer_ductal_carcinoma = tf.keras.optimizers.legacy.Adam(1e-4)\n",
        "\n",
        "checkpoint_path_ductal_carcinoma = 'D:/Medical_Imaging_Zusatz/Saved_Checkpoints/malignant/ductal_carcinoma/'\n",
        "save_dir_ductal_carcinoma = \"D:/Medical_Imaging_Zusatz/Gan_Images/malignant/ductal_carcinoma/\""
      ]
    },
    {
      "cell_type": "code",
      "execution_count": 17,
      "metadata": {},
      "outputs": [],
      "source": [
        "checkpoint_ductal_carcinoma = tf.train.Checkpoint(generator_optimizer = generator_optimizer_ductal_carcinoma, generator = generator_ductal_carcinoma)\n",
        "checkpoint_ductal_carcinoma.restore(tf.train.latest_checkpoint(checkpoint_path_ductal_carcinoma))\n",
        "\n",
        "# random vector for image generation \n",
        "random_vector_for_generation = tf.random.normal([NUM_EXAMPLES_TO_GENERATE, NOISE_DIM])\n",
        "\n",
        "predictions = generator_ductal_carcinoma(random_vector_for_generation, training = False)\n",
        "\n",
        "for number, prediction in enumerate(predictions):\n",
        "\n",
        "    fig = plt.figure(figsize = (8, 8))\n",
        "    plt.imshow(prediction[ :, :, 0] * 127.5 + 127.5, cmap = 'gray')\n",
        "    plt.axis('off')\n",
        "    plt.savefig(os.path.join(save_dir_ductal_carcinoma, 'gan_image_{}_{:04d}.png'.format('ductal_carcinoma', number)))\n",
        "    plt.close()"
      ]
    },
    {
      "attachments": {},
      "cell_type": "markdown",
      "metadata": {},
      "source": [
        "### Lobular_carcinoma"
      ]
    },
    {
      "cell_type": "code",
      "execution_count": 18,
      "metadata": {},
      "outputs": [],
      "source": [
        "generator_lobular_carcinoma = Generator()\n",
        "generator_optimizer_lobular_carcinoma = tf.keras.optimizers.legacy.Adam(1e-4)\n",
        "\n",
        "checkpoint_path_lobular_carcinoma = 'D:/Medical_Imaging_Zusatz/Saved_Checkpoints/malignant/lobular_carcinoma/'\n",
        "save_dir_lobular_carcinoma = \"D:/Medical_Imaging_Zusatz/Gan_Images/malignant/lobular_carcinoma/\""
      ]
    },
    {
      "cell_type": "code",
      "execution_count": 19,
      "metadata": {},
      "outputs": [],
      "source": [
        "checkpoint_lobular_carcinoma = tf.train.Checkpoint(generator_optimizer = generator_optimizer_lobular_carcinoma, generator = generator_lobular_carcinoma)\n",
        "checkpoint_lobular_carcinoma.restore(tf.train.latest_checkpoint(checkpoint_path_lobular_carcinoma))\n",
        "\n",
        "# random vector for image generation \n",
        "random_vector_for_generation = tf.random.normal([NUM_EXAMPLES_TO_GENERATE, NOISE_DIM])\n",
        "\n",
        "predictions = generator_lobular_carcinoma(random_vector_for_generation, training = False)\n",
        "\n",
        "for number, prediction in enumerate(predictions):\n",
        "\n",
        "    fig = plt.figure(figsize = (8, 8))\n",
        "    plt.imshow(prediction[ :, :, 0] * 127.5 + 127.5, cmap = 'gray')\n",
        "    plt.axis('off')\n",
        "    plt.savefig(os.path.join(save_dir_lobular_carcinoma, 'gan_image_{}_{:04d}.png'.format('lobular_carcinoma', number)))\n",
        "    plt.close()"
      ]
    },
    {
      "attachments": {},
      "cell_type": "markdown",
      "metadata": {},
      "source": [
        "### Mucinous_carcinoma"
      ]
    },
    {
      "cell_type": "code",
      "execution_count": 20,
      "metadata": {},
      "outputs": [],
      "source": [
        "generator_mucinous_carcinoma = Generator()\n",
        "generator_optimizer_mucinous_carcinoma = tf.keras.optimizers.legacy.Adam(1e-4)\n",
        "\n",
        "checkpoint_path_mucinous_carcinoma = 'D:/Medical_Imaging_Zusatz/Saved_Checkpoints/malignant/mucinous_carcinoma/'\n",
        "save_dir_mucinous_carcinoma = \"D:/Medical_Imaging_Zusatz/Gan_Images/malignant/mucinous_carcinoma/\""
      ]
    },
    {
      "cell_type": "code",
      "execution_count": 21,
      "metadata": {},
      "outputs": [],
      "source": [
        "checkpoint_mucinous_carcinoma = tf.train.Checkpoint(generator_optimizer = generator_optimizer_mucinous_carcinoma, generator = generator_mucinous_carcinoma)\n",
        "checkpoint_mucinous_carcinoma.restore(tf.train.latest_checkpoint(checkpoint_path_mucinous_carcinoma))\n",
        "\n",
        "# random vector for image generation \n",
        "random_vector_for_generation = tf.random.normal([NUM_EXAMPLES_TO_GENERATE, NOISE_DIM])\n",
        "\n",
        "predictions = generator_mucinous_carcinoma(random_vector_for_generation, training = False)\n",
        "\n",
        "for number, prediction in enumerate(predictions):\n",
        "\n",
        "    fig = plt.figure(figsize = (8, 8))\n",
        "    plt.imshow(prediction[ :, :, 0] * 127.5 + 127.5, cmap = 'gray')\n",
        "    plt.axis('off')\n",
        "    plt.savefig(os.path.join(save_dir_mucinous_carcinoma, 'gan_image_{}_{:04d}.png'.format('mucinous_carcinoma', number)))\n",
        "    plt.close()"
      ]
    },
    {
      "attachments": {},
      "cell_type": "markdown",
      "metadata": {},
      "source": [
        "### Papillary_carcinoma"
      ]
    },
    {
      "cell_type": "code",
      "execution_count": 22,
      "metadata": {},
      "outputs": [],
      "source": [
        "generator_papillary_carcinoma = Generator()\n",
        "generator_optimizer_papillary_carcinoma = tf.keras.optimizers.legacy.Adam(1e-4)\n",
        "\n",
        "checkpoint_path_papillary_carcinoma = 'D:/Medical_Imaging_Zusatz/Saved_Checkpoints/malignant/papillary_carcinoma/'\n",
        "save_dir_papillary_carcinoma = \"D:/Medical_Imaging_Zusatz/Gan_Images/malignant/papillary_carcinoma/\""
      ]
    },
    {
      "cell_type": "code",
      "execution_count": 23,
      "metadata": {},
      "outputs": [],
      "source": [
        "checkpoint_papillary_carcinoma = tf.train.Checkpoint(generator_optimizer = generator_optimizer_papillary_carcinoma, generator = generator_papillary_carcinoma)\n",
        "checkpoint_papillary_carcinoma.restore(tf.train.latest_checkpoint(checkpoint_path_papillary_carcinoma))\n",
        "\n",
        "# random vector for image generation \n",
        "random_vector_for_generation = tf.random.normal([NUM_EXAMPLES_TO_GENERATE, NOISE_DIM])\n",
        "\n",
        "predictions = generator_papillary_carcinoma(random_vector_for_generation, training = False)\n",
        "\n",
        "for number, prediction in enumerate(predictions):\n",
        "\n",
        "    fig = plt.figure(figsize = (8, 8))\n",
        "    plt.imshow(prediction[ :, :, 0] * 127.5 + 127.5, cmap = 'gray')\n",
        "    plt.axis('off')\n",
        "    plt.savefig(os.path.join(save_dir_papillary_carcinoma, 'gan_image_{}_{:04d}.png'.format('papillary_carcinoma', number)))\n",
        "    plt.close()"
      ]
    },
    {
      "cell_type": "markdown",
      "metadata": {
        "id": "P10W6iU--wxi"
      },
      "source": [
        "## Evaluate generated Images"
      ]
    },
    {
      "cell_type": "code",
      "execution_count": null,
      "metadata": {
        "id": "WQCPLz2q-wxi"
      },
      "outputs": [],
      "source": []
    },
    {
      "cell_type": "markdown",
      "metadata": {
        "id": "dTfu_pgF-wxi"
      },
      "source": [
        "## Backup"
      ]
    },
    {
      "cell_type": "code",
      "execution_count": null,
      "metadata": {
        "id": "51_0JAOB-wxi"
      },
      "outputs": [],
      "source": [
        "# for index, checkpoint_path in enumerate(checkpoint_path_benign_array):\n",
        "\n",
        "#     # print(checkpoint_path)\n",
        "\n",
        "#     checkpoint = tf.train.Checkpoint(generator_optimizer = generator_optimizer, generator = generator)\n",
        "\n",
        "#     checkpoint.restore(tf.train.latest_checkpoint(checkpoint_path))\n",
        "\n",
        "#     # print(checkpoint)\n",
        "\n",
        "#     # random vector for image generation \n",
        "#     random_vector_for_generation = tf.random.normal([NUM_EXAMPLES_TO_GENERATE, NOISE_DIM])\n",
        "\n",
        "#     # print(random_vector_for_generation)\n",
        "\n",
        "#     predictions = generator(random_vector_for_generation, training = False)\n",
        "\n",
        "#     for number, prediction in enumerate(predictions):\n",
        "\n",
        "#         fig = plt.figure(figsize=(8, 8))\n",
        "\n",
        "#         #    for i in range(predictions.shape[0]):\n",
        "#         #       plt.subplot(4, 4, i + 1)\n",
        "#         plt.imshow(prediction[ :, :, 0] * 127.5 + 127.5, cmap = 'gray')\n",
        "#         # plt.title(f'Generated image at epoch: {Temp}')\n",
        "#         plt.axis('off')\n",
        "#         # plt.close()\n",
        "#         plt.savefig(os.path.join(save_dir_benign_array[index], 'GAN_Image_{}_{:04d}.png'.format(benign_types[index], number)))"
      ]
    },
    {
      "cell_type": "markdown",
      "metadata": {
        "id": "uMDb7unI-wxd"
      },
      "source": [
        "## Temp Checkpoint until each cancer type gets checkpoint"
      ]
    },
    {
      "cell_type": "code",
      "execution_count": null,
      "metadata": {
        "id": "lnA32qUD-wxe"
      },
      "outputs": [],
      "source": [
        "# temp_checkpoint_path = \"D:/Medical_Imaging_Zusatz/Saved_Checkpoints/checkpoints/\"\n",
        "\n",
        "# temp_checkpoint_array = [temp_checkpoint_path, temp_checkpoint_path, temp_checkpoint_path, temp_checkpoint_path]\n",
        "# temp_checkpoint_array"
      ]
    },
    {
      "cell_type": "code",
      "execution_count": null,
      "metadata": {
        "id": "1Kci3O-4-wxe",
        "outputId": "e3d19501-a9c9-4cdb-86e1-f9f38e1ff962"
      },
      "outputs": [],
      "source": [
        "# types_benign = utils.get_types_array(\"benign\")\n",
        "\n",
        "# print(types_benign)"
      ]
    },
    {
      "cell_type": "code",
      "execution_count": null,
      "metadata": {
        "id": "XjL5G-Ga-wxf",
        "outputId": "f376f53f-5f5c-4252-ddab-56fa00eae01e"
      },
      "outputs": [],
      "source": [
        "# checkpoint_path_benign = 'D:/Saved_Checkpoints/benign/'\n",
        "# checkpoint_path_benign_array = utils.get_paths(checkpoint_path_benign, types_benign)\n",
        "\n",
        "# print(checkpoint_path_benign_array)"
      ]
    },
    {
      "cell_type": "code",
      "execution_count": null,
      "metadata": {
        "id": "fIOOzo0T-wxg",
        "outputId": "15845b69-0cc4-44aa-ba58-757139ab7c7d"
      },
      "outputs": [],
      "source": [
        "# #benign folders\n",
        "# save_dir_benign = \"D:/Medical_Imaging_Zusatz/Gan_Images/benign/\"\n",
        "# save_dir_benign_array = utils.get_paths(save_dir_benign, types_benign)\n",
        "\n",
        "# print(save_dir_benign_array)"
      ]
    },
    {
      "cell_type": "code",
      "execution_count": null,
      "metadata": {},
      "outputs": [],
      "source": [
        "# generator = utils.Generator()\n",
        "# generator_optimizer = tf.keras.optimizers.legacy.Adam(1e-4)"
      ]
    },
    {
      "cell_type": "code",
      "execution_count": null,
      "metadata": {},
      "outputs": [],
      "source": [
        "# utils.generate_sample_images(generator, generator_optimizer, checkpoint_path_benign_array[1], save_dir_benign_array[1], types_benign[1])"
      ]
    }
  ],
  "metadata": {
    "colab": {
      "provenance": []
    },
    "kernelspec": {
      "display_name": "Python 3",
      "language": "python",
      "name": "python3"
    },
    "language_info": {
      "codemirror_mode": {
        "name": "ipython",
        "version": 3
      },
      "file_extension": ".py",
      "mimetype": "text/x-python",
      "name": "python",
      "nbconvert_exporter": "python",
      "pygments_lexer": "ipython3",
      "version": "3.10.1"
    },
    "orig_nbformat": 4,
    "vscode": {
      "interpreter": {
        "hash": "3fc63de107a3995f66d33859f380f73bd26ac40da4b187ce627a4472b1acbfe0"
      }
    }
  },
  "nbformat": 4,
  "nbformat_minor": 0
}
