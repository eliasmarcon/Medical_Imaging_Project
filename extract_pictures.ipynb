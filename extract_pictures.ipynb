{
 "cells": [
  {
   "cell_type": "code",
   "execution_count": 26,
   "metadata": {},
   "outputs": [],
   "source": [
    "import os\n",
    "import shutil"
   ]
  },
  {
   "cell_type": "code",
   "execution_count": 27,
   "metadata": {},
   "outputs": [],
   "source": [
    "def create_folders(string):\n",
    "\n",
    "    path_origin = 'D:/Medical_Imaging_Zusatz/BreaKHis_v1/'\n",
    "    path_focus = path_origin + 'Dataset_' + string + '/'\n",
    "    benign = 'benign'\n",
    "    malignant = 'malignant'\n",
    "\n",
    "    os.mkdir(path_focus)\n",
    "\n",
    "    path_benign = path_focus + benign + '/'\n",
    "    path_benign_adenosis = path_benign + 'adenosis/'\n",
    "    path_benign_fibroadenoma = path_benign+ 'fibroadenoma'\n",
    "    path_benign_phyllodes_tumor = path_benign + 'phyllodes_tumor'\n",
    "    path_benign_tubular_adenoma = path_benign + 'tubular_adenoma'\n",
    "\n",
    "    os.mkdir(path_benign)\n",
    "    os.mkdir(path_benign_adenosis)\n",
    "    os.mkdir(path_benign_fibroadenoma)\n",
    "    os.mkdir(path_benign_phyllodes_tumor)\n",
    "    os.mkdir(path_benign_tubular_adenoma)\n",
    "\n",
    "    path_malignant = path_focus + malignant + '/'\n",
    "    path_malignant_ductal_carcinoma = path_malignant + 'ductal_carcinoma'\n",
    "    path_malignant_lobular_carcinoma = path_malignant + 'lobular_carcinoma'\n",
    "    path_malignant_mucinous_carcinoma = path_malignant + 'mucinous_carcinoma'\n",
    "    path_malignant_papillary_carcinoma = path_malignant + 'papillary_carcinoma'\n",
    "\n",
    "    os.mkdir(path_malignant)\n",
    "    os.mkdir(path_malignant_ductal_carcinoma)\n",
    "    os.mkdir(path_malignant_lobular_carcinoma)\n",
    "    os.mkdir(path_malignant_mucinous_carcinoma)\n",
    "    os.mkdir(path_malignant_papillary_carcinoma)\n",
    "\n",
    "    return 'Folders created!'"
   ]
  },
  {
   "cell_type": "code",
   "execution_count": 28,
   "metadata": {},
   "outputs": [],
   "source": [
    "def get_images(origin_path, target_path, string = '40X'):\n",
    "\n",
    "    for folder in os.listdir(origin_path):\n",
    "\n",
    "        for subfolder in os.listdir(origin_path + folder):\n",
    "            \n",
    "            for sf in os.listdir(origin_path + folder + \"/\" + subfolder):\n",
    "\n",
    "                if sf == string:\n",
    "\n",
    "                    for image in os.listdir(origin_path + folder + \"/\" + subfolder + \"/\" + sf):\n",
    "\n",
    "                        shutil.copy(origin_path + folder + \"/\" + subfolder + \"/\" + sf + \"/\" + image, target_path + \"/\" + folder + \"/\" + image)\n",
    "\n",
    "    return 'Done!'"
   ]
  },
  {
   "cell_type": "code",
   "execution_count": 29,
   "metadata": {},
   "outputs": [
    {
     "data": {
      "text/plain": [
       "'Folders created!'"
      ]
     },
     "execution_count": 29,
     "metadata": {},
     "output_type": "execute_result"
    }
   ],
   "source": [
    "create_folders('40X')\n",
    "create_folders('100X')\n",
    "create_folders('200X')\n",
    "create_folders('400X')"
   ]
  },
  {
   "cell_type": "code",
   "execution_count": 30,
   "metadata": {},
   "outputs": [],
   "source": [
    "path_benign = \"D:/Medical_Imaging_Zusatz/BreaKHis_v1/benign/\"\n",
    "path_malignant = \"D:/Medical_Imaging_Zusatz/BreaKHis_v1/malignant/\""
   ]
  },
  {
   "cell_type": "code",
   "execution_count": 31,
   "metadata": {},
   "outputs": [
    {
     "data": {
      "text/plain": [
       "'Done!'"
      ]
     },
     "execution_count": 31,
     "metadata": {},
     "output_type": "execute_result"
    }
   ],
   "source": [
    "target_path_benign_40X = \"D:/Medical_Imaging_Zusatz/BreaKHis_v1/Dataset_40X/benign/\"\n",
    "target_path_malignant_40X = \"D:/Medical_Imaging_Zusatz/BreaKHis_v1/Dataset_40X/malignant/\"\n",
    "\n",
    "get_images(path_benign, target_path_benign_40X, '40X')\n",
    "get_images(path_malignant, target_path_malignant_40X, '40X')"
   ]
  },
  {
   "cell_type": "code",
   "execution_count": 32,
   "metadata": {},
   "outputs": [
    {
     "data": {
      "text/plain": [
       "'Done!'"
      ]
     },
     "execution_count": 32,
     "metadata": {},
     "output_type": "execute_result"
    }
   ],
   "source": [
    "target_path_benign_100X = \"D:/Medical_Imaging_Zusatz/BreaKHis_v1/Dataset_100X/benign/\"\n",
    "target_path_malignant_100X = \"D:/Medical_Imaging_Zusatz/BreaKHis_v1/Dataset_100X/malignant/\"\n",
    "\n",
    "get_images(path_benign, target_path_benign_100X, '100X')\n",
    "get_images(path_malignant, target_path_malignant_100X, '100X')"
   ]
  },
  {
   "cell_type": "code",
   "execution_count": 33,
   "metadata": {},
   "outputs": [
    {
     "data": {
      "text/plain": [
       "'Done!'"
      ]
     },
     "execution_count": 33,
     "metadata": {},
     "output_type": "execute_result"
    }
   ],
   "source": [
    "target_path_benign_200X = \"D:/Medical_Imaging_Zusatz/BreaKHis_v1/Dataset_200X/benign/\"\n",
    "target_path_malignant_200X = \"D:/Medical_Imaging_Zusatz/BreaKHis_v1/Dataset_200X/malignant/\"\n",
    "\n",
    "get_images(path_benign, target_path_benign_200X, '200X')\n",
    "get_images(path_malignant, target_path_malignant_200X, '200X')"
   ]
  },
  {
   "cell_type": "code",
   "execution_count": 34,
   "metadata": {},
   "outputs": [
    {
     "data": {
      "text/plain": [
       "'Done!'"
      ]
     },
     "execution_count": 34,
     "metadata": {},
     "output_type": "execute_result"
    }
   ],
   "source": [
    "target_path_benign_400X = \"D:/Medical_Imaging_Zusatz/BreaKHis_v1/Dataset_400X/benign/\"\n",
    "target_path_malignant_400X = \"D:/Medical_Imaging_Zusatz/BreaKHis_v1/Dataset_400X/malignant/\"\n",
    "\n",
    "get_images(path_benign, target_path_benign_400X, '400X')\n",
    "get_images(path_malignant, target_path_malignant_400X, '400X')"
   ]
  }
 ],
 "metadata": {
  "kernelspec": {
   "display_name": "Python 3",
   "language": "python",
   "name": "python3"
  },
  "language_info": {
   "codemirror_mode": {
    "name": "ipython",
    "version": 3
   },
   "file_extension": ".py",
   "mimetype": "text/x-python",
   "name": "python",
   "nbconvert_exporter": "python",
   "pygments_lexer": "ipython3",
   "version": "3.8.7"
  },
  "orig_nbformat": 4,
  "vscode": {
   "interpreter": {
    "hash": "3143cc147c526fa0129a639514241f2375a0458eb0f3715510059aeac7219031"
   }
  }
 },
 "nbformat": 4,
 "nbformat_minor": 2
}
