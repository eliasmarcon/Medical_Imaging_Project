{
 "cells": [
  {
   "cell_type": "code",
   "execution_count": 1,
   "metadata": {},
   "outputs": [],
   "source": [
    "import os\n",
    "import shutil"
   ]
  },
  {
   "cell_type": "code",
   "execution_count": 2,
   "metadata": {},
   "outputs": [],
   "source": [
    "os.mkdir(\"./Dataset/\")\n",
    "\n",
    "os.mkdir(\"./Dataset/benign\")\n",
    "os.mkdir(\"./Dataset/benign/adenosis\")\n",
    "os.mkdir(\"./Dataset/benign/fibroadenoma\")\n",
    "os.mkdir(\"./Dataset/benign/phyllodes_tumor\")\n",
    "os.mkdir(\"./Dataset/benign/tubular_adenoma\")\n",
    "\n",
    "os.mkdir(\"./Dataset/malignant\")\n",
    "os.mkdir(\"./Dataset/malignant/ductal_carcinoma\")\n",
    "os.mkdir(\"./Dataset/malignant/lobular_carcinoma\")\n",
    "os.mkdir(\"./Dataset/malignant/mucinous_carcinoma\")\n",
    "os.mkdir(\"./Dataset/malignant/papillary_carcinoma\")\n"
   ]
  },
  {
   "cell_type": "code",
   "execution_count": 3,
   "metadata": {},
   "outputs": [],
   "source": [
    "path_benign = \"D:/Medical_Imaging_Projekt_Backup/dat/BreaKHis_v1/BreaKHis_v1/histology_slides/breast/benign/SOB/\"\n",
    "path_malignant = \"D:/Medical_Imaging_Projekt_Backup/dat/BreaKHis_v1/BreaKHis_v1/histology_slides/breast/malignant/SOB/\""
   ]
  },
  {
   "cell_type": "code",
   "execution_count": 4,
   "metadata": {},
   "outputs": [],
   "source": [
    "target_path_benign = \"C:/Users/elias/OneDrive - FH Technikum Wien/Master_Technikum_Wien/3_Semester/Spezialisierung_Medical_Imaging/Projekt/Medical_Imaging_Projekt/Dataset/benign/\"\n",
    "target_path_malignant = \"C:/Users/elias/OneDrive - FH Technikum Wien/Master_Technikum_Wien/3_Semester/Spezialisierung_Medical_Imaging/Projekt/Medical_Imaging_Projekt/Dataset/malignant/\""
   ]
  },
  {
   "cell_type": "code",
   "execution_count": 5,
   "metadata": {},
   "outputs": [],
   "source": [
    "def getImages(origin_path, target_path):\n",
    "\n",
    "    for folder in os.listdir(origin_path):\n",
    "\n",
    "        for subfolder in os.listdir(origin_path + folder):\n",
    "            \n",
    "            for sf in os.listdir(origin_path + folder + \"/\" + subfolder):\n",
    "\n",
    "                if sf == \"40X\":\n",
    "\n",
    "                    for image in os.listdir(origin_path + folder + \"/\" + subfolder + \"/\" + sf):\n",
    "\n",
    "                        shutil.copy(origin_path + folder + \"/\" + subfolder + \"/\" + sf + \"/\" + image, target_path + \"/\" + folder + \"/\" + image)\n",
    "\n",
    "    return 'Done!'"
   ]
  },
  {
   "cell_type": "code",
   "execution_count": 6,
   "metadata": {},
   "outputs": [
    {
     "data": {
      "text/plain": [
       "'Done!'"
      ]
     },
     "execution_count": 6,
     "metadata": {},
     "output_type": "execute_result"
    }
   ],
   "source": [
    "getImages(path_benign, target_path_benign)"
   ]
  },
  {
   "cell_type": "code",
   "execution_count": 7,
   "metadata": {},
   "outputs": [
    {
     "data": {
      "text/plain": [
       "'Done!'"
      ]
     },
     "execution_count": 7,
     "metadata": {},
     "output_type": "execute_result"
    }
   ],
   "source": [
    "getImages(path_malignant, target_path_malignant)"
   ]
  }
 ],
 "metadata": {
  "kernelspec": {
   "display_name": "Python 3",
   "language": "python",
   "name": "python3"
  },
  "language_info": {
   "codemirror_mode": {
    "name": "ipython",
    "version": 3
   },
   "file_extension": ".py",
   "mimetype": "text/x-python",
   "name": "python",
   "nbconvert_exporter": "python",
   "pygments_lexer": "ipython3",
   "version": "3.8.7 (tags/v3.8.7:6503f05, Dec 21 2020, 17:59:51) [MSC v.1928 64 bit (AMD64)]"
  },
  "orig_nbformat": 4,
  "vscode": {
   "interpreter": {
    "hash": "3143cc147c526fa0129a639514241f2375a0458eb0f3715510059aeac7219031"
   }
  }
 },
 "nbformat": 4,
 "nbformat_minor": 2
}
